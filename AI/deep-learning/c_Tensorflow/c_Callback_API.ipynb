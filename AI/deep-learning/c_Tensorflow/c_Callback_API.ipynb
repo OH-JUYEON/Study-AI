{
 "cells": [
  {
   "cell_type": "markdown",
   "id": "41d58eec",
   "metadata": {},
   "source": [
    "### Callback API\n",
    "- 모델이 학습 중에 충돌이 발생하거나 네트워크가 끊기면, 모든 훈련 시간이 낭비될 수 있고, 과적합을 방지하기 위해 훈련을 중간에 중지해야 할 수도 있다.\n",
    "- 모델이 학습을 시작하면 학습이 완료될 때까지 아무런 제어를 하지 못하게 되고,  \n",
    "신경망 훈련을 완료하는 데는 몇 시간 또는 며칠이 걸릴 수 있기 때문에 모델을 모니터링하고 제어할 수 있는 기능이 필요하다.\n",
    "- 훈련 시(fit) Callback API를 등록 시키면 반복 내에서 특정 이벤트 발생 시마다 등록된 callback이 호출되어 수행된다.\n",
    "\n",
    "#### ModelCheckpoint(filepath, monitor='val_loss', verbose=0, save_best_only=False, save_weights_only=False, mode='auto', period=1)\n",
    "특정 조건에 따라 모델을 파일로 저장한다.\n",
    "- filepath: \"weights.{epoch:03d}-{val_loss:.4f}.hdf5\" 와 같이 파일 이름에 반복 회차와 검증 손실을 작성하여 모델의 체크포인트를 저장한다.\n",
    "- monitor: 모니터링할 성능 지표를 작성한다 (loss 또는 평가 지표).\n",
    "- save_best_only: 가장 좋은 성능을 나타내는 모델을 저장할 지에 대한 여부\n",
    "- save_weights_only: weights만 저장할 지에 대한 여부\n",
    "- mode: {auto, min, max} 중 하나. monitor 성능 지표가 감소해야 좋을 경우 min, 증가해야 좋을 경우 max, auto는 monitor 이름에서 자동으로 유추한다.\n",
    "\n",
    "#### ReduceLROnPlateau(monitor='val_loss', factor=0.1, patience=10, verbose=0, mode='auto', min_lr=0)\n",
    "특정 반복 동안 성능이 개선되지 않을 때, 학습률(Learning rate)를 동적으로 감소시킨다.\n",
    "- monitor: 모니터링할 성능 지표를 작성한다 (loss 또는 평가 지표).\n",
    "- factor: 학습률을 감소 시킬 비율. 새로운 학습률 = 기존 학습률 * factor \n",
    "- patience: 학습률을 줄이기 전에 monitor할 반복 횟수. \n",
    "- mode: {auto, min, max} 중 하나. monitor 성능 지표가 감소해야 좋을 경우 min, 증가해야 좋을 경우 max, auto는 monitor 이름에서 자동으로 유추한다.\n",
    "\n",
    "#### EarlyStopping(monitor='val_loss', patience=0, verbose=0, mode='auto')\n",
    "특정 반복 동안 성능이 개선되지 않을 때, 학습을 조기에 중단한다.\n",
    "- monitor: 모니터링할 성능 지표를 작성한다 (loss 또는 평가 지표).\n",
    "- patience: Early Stopping을 적용하기 전에 monitor할 반복 횟수. \n",
    "- mode: {auto, min, max} 중 하나. monitor 성능 지표가 감소해야 좋을 경우 min, 증가해야 좋을 경우 max, auto는 monitor 이름에서 자동으로 유추한다."
   ]
  },
  {
   "cell_type": "code",
   "execution_count": 1,
   "id": "48c793c7",
   "metadata": {},
   "outputs": [],
   "source": [
    "from tensorflow.keras.layers import Layer, Input, Flatten, Dense\n",
    "from tensorflow.keras.models import Model\n",
    "import tensorflow as tf\n",
    "\n",
    "INPUT_SIZE = 28\n",
    "\n",
    "def create_model():\n",
    "    input_tensor = Input(shape=(INPUT_SIZE, INPUT_SIZE))\n",
    "    x = Flatten()(input_tensor)\n",
    "    x = Dense(64, activation='relu')(x)\n",
    "    x = Dense(128, activation='relu')(x)\n",
    "    output = Dense(10, activation='softmax')(x)\n",
    "\n",
    "    model = Model(inputs = input_tensor, outputs = output)\n",
    "    return model"
   ]
  },
  {
   "cell_type": "code",
   "execution_count": 2,
   "id": "4ed1add2",
   "metadata": {},
   "outputs": [],
   "source": [
    "import numpy as np\n",
    "from tensorflow.keras.utils import to_categorical\n",
    "from sklearn.model_selection import train_test_split\n",
    "\n",
    "def get_preprocessed_data(images, targets):\n",
    "    images = np.array(images / 255.0, dtype=np.float32)\n",
    "    targets = np.array(targets, dtype=np.float32)\n",
    "    \n",
    "    return images, targets\n",
    "\n",
    "def get_preprocessed_ohe(images, targets):\n",
    "    images, targets = get_preprocessed_data(images, targets)\n",
    "    oh_targets = to_categorical(targets)\n",
    "    return images, oh_targets\n",
    "\n",
    "def get_train_valid_test(train_images, train_targets, test_images, test_targets, valid_size=0.2, random_state=124):\n",
    "    train_images, train_oh_targets = get_preprocessed_ohe(train_images, train_targets)\n",
    "    test_images, test_oh_targets = get_preprocessed_ohe(test_images, test_targets)\n",
    "    \n",
    "    train_train_images, validation_images, train_train_oh_targets, validation_oh_targets = \\\n",
    "    train_test_split(train_images, train_oh_targets, stratify=train_oh_targets, test_size=valid_size, random_state=random_state)\n",
    "\n",
    "    return (train_train_images, train_train_oh_targets), (validation_images, validation_oh_targets),(test_images, test_oh_targets)"
   ]
  },
  {
   "cell_type": "code",
   "execution_count": 3,
   "id": "95e7d066",
   "metadata": {},
   "outputs": [
    {
     "name": "stdout",
     "output_type": "stream",
     "text": [
      "(60000, 28, 28) (60000,) (10000, 28, 28) (10000,)\n",
      "(48000, 28, 28) (48000, 10) (12000, 28, 28) (12000, 10) (10000, 28, 28) (10000, 10)\n"
     ]
    }
   ],
   "source": [
    "from tensorflow.keras.datasets import fashion_mnist\n",
    "\n",
    "(train_images, train_targets), (test_images, test_targets) = fashion_mnist.load_data()\n",
    "print(train_images.shape, train_targets.shape, test_images.shape, test_targets.shape)\n",
    "\n",
    "(train_train_images, train_train_oh_targets), (validation_images, validation_oh_targets),(test_images, test_oh_targets) = \\\n",
    "get_train_valid_test(train_images, train_targets, test_images, test_targets)\n",
    "print(train_train_images.shape, train_train_oh_targets.shape, validation_images.shape, validation_oh_targets.shape, test_images.shape, test_oh_targets.shape)"
   ]
  },
  {
   "cell_type": "markdown",
   "id": "2b1bdadf",
   "metadata": {},
   "source": [
    "##### ModelCheckPoint"
   ]
  },
  {
   "cell_type": "code",
   "execution_count": 8,
   "id": "00827253",
   "metadata": {},
   "outputs": [
    {
     "name": "stdout",
     "output_type": "stream",
     "text": [
      " D 드라이브의 볼륨: 새 볼륨\n",
      " 볼륨 일련 번호: 02B1-19A2\n",
      "\n",
      " D:\\kdt_0900_hds\\ai\\deep-learning\\c_Tensorflow\\callback_files 디렉터리\n",
      "\n",
      "2023-11-08  오전 09:50    <DIR>          .\n",
      "2023-11-08  오전 09:50    <DIR>          ..\n",
      "2023-11-08  오전 09:49           257,112 weights.001-0.4127.h5\n",
      "2023-11-08  오전 09:49           257,112 weights.002-0.3770.h5\n",
      "2023-11-08  오전 09:50           257,112 weights.003-0.3733.h5\n",
      "2023-11-08  오전 09:50           257,112 weights.004-0.3498.h5\n",
      "2023-11-08  오전 09:50           257,112 weights.005-0.3413.h5\n",
      "2023-11-08  오전 09:50           257,112 weights.006-0.3260.h5\n",
      "2023-11-08  오전 09:50           257,112 weights.009-0.3212.h5\n",
      "               7개 파일           1,799,784 바이트\n",
      "               2개 디렉터리  463,465,644,032 바이트 남음\n"
     ]
    }
   ],
   "source": [
    "!dir callback_files"
   ]
  },
  {
   "cell_type": "code",
   "execution_count": 7,
   "id": "962d1c66",
   "metadata": {
    "scrolled": true
   },
   "outputs": [
    {
     "name": "stdout",
     "output_type": "stream",
     "text": [
      "Epoch 1/10\n",
      "1492/1500 [============================>.] - ETA: 0s - loss: 0.5295 - acc: 0.8112\n",
      "Epoch 1: val_loss improved from inf to 0.41273, saving model to ./callback_files\\weights.001-0.4127.h5\n",
      "1500/1500 [==============================] - 4s 2ms/step - loss: 0.5288 - acc: 0.8114 - val_loss: 0.4127 - val_acc: 0.8519\n",
      "Epoch 2/10\n",
      "1480/1500 [============================>.] - ETA: 0s - loss: 0.3857 - acc: 0.8590\n",
      "Epoch 2: val_loss improved from 0.41273 to 0.37699, saving model to ./callback_files\\weights.002-0.3770.h5\n",
      "1500/1500 [==============================] - 3s 2ms/step - loss: 0.3858 - acc: 0.8590 - val_loss: 0.3770 - val_acc: 0.8588\n",
      "Epoch 3/10\n",
      "1468/1500 [============================>.] - ETA: 0s - loss: 0.3500 - acc: 0.8723\n",
      "Epoch 3: val_loss improved from 0.37699 to 0.37334, saving model to ./callback_files\\weights.003-0.3733.h5\n",
      "1500/1500 [==============================] - 3s 2ms/step - loss: 0.3502 - acc: 0.8721 - val_loss: 0.3733 - val_acc: 0.8585\n",
      "Epoch 4/10\n",
      "1492/1500 [============================>.] - ETA: 0s - loss: 0.3250 - acc: 0.8800\n",
      "Epoch 4: val_loss improved from 0.37334 to 0.34977, saving model to ./callback_files\\weights.004-0.3498.h5\n",
      "1500/1500 [==============================] - 3s 2ms/step - loss: 0.3250 - acc: 0.8800 - val_loss: 0.3498 - val_acc: 0.8703\n",
      "Epoch 5/10\n",
      "1473/1500 [============================>.] - ETA: 0s - loss: 0.3081 - acc: 0.8864\n",
      "Epoch 5: val_loss improved from 0.34977 to 0.34127, saving model to ./callback_files\\weights.005-0.3413.h5\n",
      "1500/1500 [==============================] - 3s 2ms/step - loss: 0.3083 - acc: 0.8862 - val_loss: 0.3413 - val_acc: 0.8723\n",
      "Epoch 6/10\n",
      "1488/1500 [============================>.] - ETA: 0s - loss: 0.2920 - acc: 0.8914\n",
      "Epoch 6: val_loss improved from 0.34127 to 0.32600, saving model to ./callback_files\\weights.006-0.3260.h5\n",
      "1500/1500 [==============================] - 3s 2ms/step - loss: 0.2925 - acc: 0.8912 - val_loss: 0.3260 - val_acc: 0.8788\n",
      "Epoch 7/10\n",
      "1488/1500 [============================>.] - ETA: 0s - loss: 0.2799 - acc: 0.8959\n",
      "Epoch 7: val_loss did not improve from 0.32600\n",
      "1500/1500 [==============================] - 3s 2ms/step - loss: 0.2803 - acc: 0.8956 - val_loss: 0.3320 - val_acc: 0.8785\n",
      "Epoch 8/10\n",
      "1476/1500 [============================>.] - ETA: 0s - loss: 0.2690 - acc: 0.8982\n",
      "Epoch 8: val_loss did not improve from 0.32600\n",
      "1500/1500 [==============================] - 3s 2ms/step - loss: 0.2688 - acc: 0.8983 - val_loss: 0.3324 - val_acc: 0.8794\n",
      "Epoch 9/10\n",
      "1497/1500 [============================>.] - ETA: 0s - loss: 0.2582 - acc: 0.9039\n",
      "Epoch 9: val_loss improved from 0.32600 to 0.32125, saving model to ./callback_files\\weights.009-0.3212.h5\n",
      "1500/1500 [==============================] - 3s 2ms/step - loss: 0.2581 - acc: 0.9039 - val_loss: 0.3212 - val_acc: 0.8867\n",
      "Epoch 10/10\n",
      "1497/1500 [============================>.] - ETA: 0s - loss: 0.2482 - acc: 0.9058\n",
      "Epoch 10: val_loss did not improve from 0.32125\n",
      "1500/1500 [==============================] - 4s 3ms/step - loss: 0.2480 - acc: 0.9059 - val_loss: 0.3305 - val_acc: 0.8845\n"
     ]
    }
   ],
   "source": [
    "from tensorflow.keras.optimizers import Adam\n",
    "from tensorflow.keras.losses import CategoricalCrossentropy\n",
    "from tensorflow.keras.metrics import Accuracy\n",
    "from tensorflow.keras.callbacks import ModelCheckpoint\n",
    "\n",
    "model = create_model()\n",
    "model.compile(optimizer=Adam(), loss=CategoricalCrossentropy(), metrics=['acc'])\n",
    "\n",
    "mcp_cb = ModelCheckpoint(\n",
    "    filepath='./callback_files/weights.{epoch:03d}-{val_loss:.4f}.h5', \n",
    "    monitor='val_loss', \n",
    "    save_best_only=True, \n",
    "    save_weights_only=True, \n",
    "    mode='min', \n",
    "    verbose=1)\n",
    "\n",
    "history = model.fit(x=train_train_images, y=train_train_oh_targets, batch_size=32, epochs=10, validation_data=(validation_images, validation_oh_targets), callbacks=[mcp_cb])"
   ]
  },
  {
   "cell_type": "code",
   "execution_count": 9,
   "id": "4862dc8b",
   "metadata": {
    "scrolled": true
   },
   "outputs": [
    {
     "name": "stdout",
     "output_type": "stream",
     "text": [
      "Model: \"model_1\"\n",
      "_________________________________________________________________\n",
      " Layer (type)                Output Shape              Param #   \n",
      "=================================================================\n",
      " input_2 (InputLayer)        [(None, 28, 28)]          0         \n",
      "                                                                 \n",
      " flatten_1 (Flatten)         (None, 784)               0         \n",
      "                                                                 \n",
      " dense_3 (Dense)             (None, 64)                50240     \n",
      "                                                                 \n",
      " dense_4 (Dense)             (None, 128)               8320      \n",
      "                                                                 \n",
      " dense_5 (Dense)             (None, 10)                1290      \n",
      "                                                                 \n",
      "=================================================================\n",
      "Total params: 59850 (233.79 KB)\n",
      "Trainable params: 59850 (233.79 KB)\n",
      "Non-trainable params: 0 (0.00 Byte)\n",
      "_________________________________________________________________\n"
     ]
    }
   ],
   "source": [
    "model.load_weights('./callback_files/weights.009-0.3212.h5')\n",
    "model.summary()"
   ]
  },
  {
   "cell_type": "markdown",
   "id": "5560a709",
   "metadata": {},
   "source": [
    "##### ReduceLROnPlateau"
   ]
  },
  {
   "cell_type": "code",
   "execution_count": 12,
   "id": "7d262645",
   "metadata": {
    "scrolled": true
   },
   "outputs": [
    {
     "name": "stdout",
     "output_type": "stream",
     "text": [
      "Epoch 1/30\n",
      "1500/1500 [==============================] - 4s 2ms/step - loss: 0.5228 - acc: 0.8126 - val_loss: 0.4020 - val_acc: 0.8532 - lr: 0.0010\n",
      "Epoch 2/30\n",
      "1500/1500 [==============================] - 3s 2ms/step - loss: 0.3851 - acc: 0.8602 - val_loss: 0.3797 - val_acc: 0.8566 - lr: 0.0010\n",
      "Epoch 3/30\n",
      "1500/1500 [==============================] - 3s 2ms/step - loss: 0.3464 - acc: 0.8736 - val_loss: 0.3470 - val_acc: 0.8724 - lr: 0.0010\n",
      "Epoch 4/30\n",
      "1500/1500 [==============================] - 3s 2ms/step - loss: 0.3241 - acc: 0.8813 - val_loss: 0.3243 - val_acc: 0.8784 - lr: 0.0010\n",
      "Epoch 5/30\n",
      "1500/1500 [==============================] - 3s 2ms/step - loss: 0.3063 - acc: 0.8861 - val_loss: 0.3432 - val_acc: 0.8738 - lr: 0.0010\n",
      "Epoch 6/30\n",
      "1480/1500 [============================>.] - ETA: 0s - loss: 0.2921 - acc: 0.8915\n",
      "Epoch 6: ReduceLROnPlateau reducing learning rate to 0.00010000000474974513.\n",
      "1500/1500 [==============================] - 3s 2ms/step - loss: 0.2919 - acc: 0.8918 - val_loss: 0.3390 - val_acc: 0.8747 - lr: 0.0010\n",
      "Epoch 7/30\n",
      "1500/1500 [==============================] - 4s 2ms/step - loss: 0.2416 - acc: 0.9115 - val_loss: 0.2942 - val_acc: 0.8920 - lr: 1.0000e-04\n",
      "Epoch 8/30\n",
      "1500/1500 [==============================] - 3s 2ms/step - loss: 0.2322 - acc: 0.9143 - val_loss: 0.2922 - val_acc: 0.8915 - lr: 1.0000e-04\n",
      "Epoch 9/30\n",
      "1500/1500 [==============================] - 4s 2ms/step - loss: 0.2277 - acc: 0.9153 - val_loss: 0.2918 - val_acc: 0.8936 - lr: 1.0000e-04\n",
      "Epoch 10/30\n",
      "1500/1500 [==============================] - 4s 2ms/step - loss: 0.2238 - acc: 0.9168 - val_loss: 0.2949 - val_acc: 0.8921 - lr: 1.0000e-04\n",
      "Epoch 11/30\n",
      "1464/1500 [============================>.] - ETA: 0s - loss: 0.2212 - acc: 0.9181\n",
      "Epoch 11: ReduceLROnPlateau reducing learning rate to 1.0000000474974514e-05.\n",
      "1500/1500 [==============================] - 3s 2ms/step - loss: 0.2211 - acc: 0.9181 - val_loss: 0.2949 - val_acc: 0.8932 - lr: 1.0000e-04\n",
      "Epoch 12/30\n",
      "1500/1500 [==============================] - 3s 2ms/step - loss: 0.2146 - acc: 0.9204 - val_loss: 0.2894 - val_acc: 0.8945 - lr: 1.0000e-05\n",
      "Epoch 13/30\n",
      "1500/1500 [==============================] - 3s 2ms/step - loss: 0.2131 - acc: 0.9208 - val_loss: 0.2893 - val_acc: 0.8946 - lr: 1.0000e-05\n",
      "Epoch 14/30\n",
      "1500/1500 [==============================] - 3s 2ms/step - loss: 0.2127 - acc: 0.9212 - val_loss: 0.2892 - val_acc: 0.8951 - lr: 1.0000e-05\n",
      "Epoch 15/30\n",
      "1500/1500 [==============================] - 3s 2ms/step - loss: 0.2123 - acc: 0.9212 - val_loss: 0.2888 - val_acc: 0.8941 - lr: 1.0000e-05\n",
      "Epoch 16/30\n",
      "1500/1500 [==============================] - 3s 2ms/step - loss: 0.2120 - acc: 0.9211 - val_loss: 0.2887 - val_acc: 0.8946 - lr: 1.0000e-05\n",
      "Epoch 17/30\n",
      "1500/1500 [==============================] - 3s 2ms/step - loss: 0.2117 - acc: 0.9216 - val_loss: 0.2886 - val_acc: 0.8934 - lr: 1.0000e-05\n",
      "Epoch 18/30\n",
      "1500/1500 [==============================] - 4s 3ms/step - loss: 0.2113 - acc: 0.9209 - val_loss: 0.2891 - val_acc: 0.8955 - lr: 1.0000e-05\n",
      "Epoch 19/30\n",
      "1489/1500 [============================>.] - ETA: 0s - loss: 0.2110 - acc: 0.9217\n",
      "Epoch 19: ReduceLROnPlateau reducing learning rate to 1.0000000656873453e-06.\n",
      "1500/1500 [==============================] - 3s 2ms/step - loss: 0.2111 - acc: 0.9218 - val_loss: 0.2885 - val_acc: 0.8945 - lr: 1.0000e-05\n",
      "Epoch 20/30\n",
      "1500/1500 [==============================] - 3s 2ms/step - loss: 0.2102 - acc: 0.9215 - val_loss: 0.2884 - val_acc: 0.8944 - lr: 1.0000e-06\n",
      "Epoch 21/30\n",
      "1500/1500 [==============================] - 3s 2ms/step - loss: 0.2101 - acc: 0.9219 - val_loss: 0.2884 - val_acc: 0.8946 - lr: 1.0000e-06\n",
      "Epoch 22/30\n",
      "1478/1500 [============================>.] - ETA: 0s - loss: 0.2100 - acc: 0.9216\n",
      "Epoch 22: ReduceLROnPlateau reducing learning rate to 1.0000001111620805e-07.\n",
      "1500/1500 [==============================] - 3s 2ms/step - loss: 0.2101 - acc: 0.9216 - val_loss: 0.2884 - val_acc: 0.8946 - lr: 1.0000e-06\n",
      "Epoch 23/30\n",
      "1500/1500 [==============================] - 4s 3ms/step - loss: 0.2100 - acc: 0.9218 - val_loss: 0.2884 - val_acc: 0.8946 - lr: 1.0000e-07\n",
      "Epoch 24/30\n",
      "1487/1500 [============================>.] - ETA: 0s - loss: 0.2099 - acc: 0.9218\n",
      "Epoch 24: ReduceLROnPlateau reducing learning rate to 1.000000082740371e-08.\n",
      "1500/1500 [==============================] - 4s 2ms/step - loss: 0.2100 - acc: 0.9218 - val_loss: 0.2884 - val_acc: 0.8945 - lr: 1.0000e-07\n",
      "Epoch 25/30\n",
      "1500/1500 [==============================] - 4s 2ms/step - loss: 0.2100 - acc: 0.9218 - val_loss: 0.2884 - val_acc: 0.8945 - lr: 1.0000e-08\n",
      "Epoch 26/30\n",
      "1477/1500 [============================>.] - ETA: 0s - loss: 0.2098 - acc: 0.9219\n",
      "Epoch 26: ReduceLROnPlateau reducing learning rate to 1.000000082740371e-09.\n",
      "1500/1500 [==============================] - 3s 2ms/step - loss: 0.2100 - acc: 0.9218 - val_loss: 0.2884 - val_acc: 0.8945 - lr: 1.0000e-08\n",
      "Epoch 27/30\n",
      "1500/1500 [==============================] - 3s 2ms/step - loss: 0.2100 - acc: 0.9218 - val_loss: 0.2884 - val_acc: 0.8945 - lr: 1.0000e-09\n",
      "Epoch 28/30\n",
      "1497/1500 [============================>.] - ETA: 0s - loss: 0.2099 - acc: 0.9219\n",
      "Epoch 28: ReduceLROnPlateau reducing learning rate to 1.000000082740371e-10.\n",
      "1500/1500 [==============================] - 3s 2ms/step - loss: 0.2100 - acc: 0.9218 - val_loss: 0.2884 - val_acc: 0.8945 - lr: 1.0000e-09\n",
      "Epoch 29/30\n",
      "1500/1500 [==============================] - 4s 3ms/step - loss: 0.2100 - acc: 0.9218 - val_loss: 0.2884 - val_acc: 0.8945 - lr: 1.0000e-10\n",
      "Epoch 30/30\n",
      "1492/1500 [============================>.] - ETA: 0s - loss: 0.2101 - acc: 0.9218\n",
      "Epoch 30: ReduceLROnPlateau reducing learning rate to 1.000000082740371e-11.\n",
      "1500/1500 [==============================] - 4s 3ms/step - loss: 0.2100 - acc: 0.9218 - val_loss: 0.2884 - val_acc: 0.8945 - lr: 1.0000e-10\n"
     ]
    }
   ],
   "source": [
    "from tensorflow.keras.optimizers import Adam\n",
    "from tensorflow.keras.losses import CategoricalCrossentropy\n",
    "from tensorflow.keras.metrics import Accuracy\n",
    "from tensorflow.keras.callbacks import ModelCheckpoint, ReduceLROnPlateau\n",
    "\n",
    "model = create_model()\n",
    "model.compile(optimizer=Adam(), loss=CategoricalCrossentropy(), metrics=['acc'])\n",
    "\n",
    "rlr_cb = ReduceLROnPlateau(\n",
    "    monitor='val_loss', \n",
    "    factor=0.1,\n",
    "    patience=2, \n",
    "    mode='min', \n",
    "    verbose=1)\n",
    "\n",
    "history = model.fit(x=train_train_images, y=train_train_oh_targets, batch_size=32, epochs=30, validation_data=(validation_images, validation_oh_targets), callbacks=[rlr_cb])"
   ]
  },
  {
   "cell_type": "markdown",
   "id": "dc79aa80",
   "metadata": {},
   "source": [
    "##### EarlyStopping"
   ]
  },
  {
   "cell_type": "code",
   "execution_count": 13,
   "id": "6d46aee4",
   "metadata": {},
   "outputs": [
    {
     "name": "stdout",
     "output_type": "stream",
     "text": [
      "Epoch 1/30\n",
      "1500/1500 [==============================] - 4s 2ms/step - loss: 0.5148 - acc: 0.8170 - val_loss: 0.4065 - val_acc: 0.8480\n",
      "Epoch 2/30\n",
      "1500/1500 [==============================] - 3s 2ms/step - loss: 0.3811 - acc: 0.8613 - val_loss: 0.3788 - val_acc: 0.8561\n",
      "Epoch 3/30\n",
      "1500/1500 [==============================] - 3s 2ms/step - loss: 0.3453 - acc: 0.8746 - val_loss: 0.3565 - val_acc: 0.8668\n",
      "Epoch 4/30\n",
      "1500/1500 [==============================] - 3s 2ms/step - loss: 0.3201 - acc: 0.8824 - val_loss: 0.3538 - val_acc: 0.8694\n",
      "Epoch 5/30\n",
      "1500/1500 [==============================] - 3s 2ms/step - loss: 0.3015 - acc: 0.8875 - val_loss: 0.3496 - val_acc: 0.8677\n",
      "Epoch 6/30\n",
      "1500/1500 [==============================] - 3s 2ms/step - loss: 0.2861 - acc: 0.8929 - val_loss: 0.3392 - val_acc: 0.8764\n",
      "Epoch 7/30\n",
      "1500/1500 [==============================] - 3s 2ms/step - loss: 0.2745 - acc: 0.8966 - val_loss: 0.3201 - val_acc: 0.8812\n",
      "Epoch 8/30\n",
      "1500/1500 [==============================] - 3s 2ms/step - loss: 0.2622 - acc: 0.9019 - val_loss: 0.3247 - val_acc: 0.8810\n",
      "Epoch 9/30\n",
      "1500/1500 [==============================] - 3s 2ms/step - loss: 0.2519 - acc: 0.9051 - val_loss: 0.3253 - val_acc: 0.8837\n",
      "Epoch 10/30\n",
      "1500/1500 [==============================] - 3s 2ms/step - loss: 0.2452 - acc: 0.9071 - val_loss: 0.3203 - val_acc: 0.8827\n",
      "Epoch 11/30\n",
      "1500/1500 [==============================] - 3s 2ms/step - loss: 0.2360 - acc: 0.9107 - val_loss: 0.3154 - val_acc: 0.8922\n",
      "Epoch 12/30\n",
      "1500/1500 [==============================] - 3s 2ms/step - loss: 0.2282 - acc: 0.9128 - val_loss: 0.3262 - val_acc: 0.8864\n",
      "Epoch 13/30\n",
      "1500/1500 [==============================] - 3s 2ms/step - loss: 0.2192 - acc: 0.9154 - val_loss: 0.3298 - val_acc: 0.8861\n",
      "Epoch 14/30\n",
      "1500/1500 [==============================] - 3s 2ms/step - loss: 0.2143 - acc: 0.9178 - val_loss: 0.3391 - val_acc: 0.8813\n",
      "Epoch 15/30\n",
      "1500/1500 [==============================] - 3s 2ms/step - loss: 0.2096 - acc: 0.9204 - val_loss: 0.3726 - val_acc: 0.8771\n",
      "Epoch 15: early stopping\n"
     ]
    }
   ],
   "source": [
    "from tensorflow.keras.optimizers import Adam\n",
    "from tensorflow.keras.losses import CategoricalCrossentropy\n",
    "from tensorflow.keras.metrics import Accuracy\n",
    "from tensorflow.keras.callbacks import ModelCheckpoint, ReduceLROnPlateau, EarlyStopping\n",
    "\n",
    "model = create_model()\n",
    "model.compile(optimizer=Adam(), loss=CategoricalCrossentropy(), metrics=['acc'])\n",
    "\n",
    "ely_cb = EarlyStopping(\n",
    "    monitor='val_loss', \n",
    "    patience=4, \n",
    "    mode='min', \n",
    "    verbose=1)\n",
    "\n",
    "history = model.fit(x=train_train_images, y=train_train_oh_targets, batch_size=32, epochs=30, validation_data=(validation_images, validation_oh_targets), callbacks=[ely_cb])"
   ]
  },
  {
   "cell_type": "code",
   "execution_count": 14,
   "id": "7f3f9358",
   "metadata": {},
   "outputs": [
    {
     "name": "stdout",
     "output_type": "stream",
     "text": [
      "Epoch 1/30\n",
      "1471/1500 [============================>.] - ETA: 0s - loss: 0.5228 - acc: 0.8141\n",
      "Epoch 1: val_loss improved from inf to 0.41983, saving model to ./callback_files\\weights.001-0.4198.h5\n",
      "1500/1500 [==============================] - 4s 2ms/step - loss: 0.5203 - acc: 0.8150 - val_loss: 0.4198 - val_acc: 0.8451 - lr: 0.0010\n",
      "Epoch 2/30\n",
      "1489/1500 [============================>.] - ETA: 0s - loss: 0.3834 - acc: 0.8614\n",
      "Epoch 2: val_loss improved from 0.41983 to 0.38148, saving model to ./callback_files\\weights.002-0.3815.h5\n",
      "1500/1500 [==============================] - 3s 2ms/step - loss: 0.3832 - acc: 0.8615 - val_loss: 0.3815 - val_acc: 0.8579 - lr: 0.0010\n",
      "Epoch 3/30\n",
      "1490/1500 [============================>.] - ETA: 0s - loss: 0.3464 - acc: 0.8737\n",
      "Epoch 3: val_loss improved from 0.38148 to 0.35598, saving model to ./callback_files\\weights.003-0.3560.h5\n",
      "1500/1500 [==============================] - 3s 2ms/step - loss: 0.3460 - acc: 0.8738 - val_loss: 0.3560 - val_acc: 0.8662 - lr: 0.0010\n",
      "Epoch 4/30\n",
      "1482/1500 [============================>.] - ETA: 0s - loss: 0.3227 - acc: 0.8810\n",
      "Epoch 4: val_loss improved from 0.35598 to 0.34747, saving model to ./callback_files\\weights.004-0.3475.h5\n",
      "1500/1500 [==============================] - 4s 2ms/step - loss: 0.3224 - acc: 0.8812 - val_loss: 0.3475 - val_acc: 0.8720 - lr: 0.0010\n",
      "Epoch 5/30\n",
      "1474/1500 [============================>.] - ETA: 0s - loss: 0.3046 - acc: 0.8875\n",
      "Epoch 5: val_loss improved from 0.34747 to 0.33294, saving model to ./callback_files\\weights.005-0.3329.h5\n",
      "1500/1500 [==============================] - 3s 2ms/step - loss: 0.3048 - acc: 0.8875 - val_loss: 0.3329 - val_acc: 0.8748 - lr: 0.0010\n",
      "Epoch 6/30\n",
      "1497/1500 [============================>.] - ETA: 0s - loss: 0.2915 - acc: 0.8913\n",
      "Epoch 6: val_loss improved from 0.33294 to 0.32494, saving model to ./callback_files\\weights.006-0.3249.h5\n",
      "1500/1500 [==============================] - 3s 2ms/step - loss: 0.2914 - acc: 0.8913 - val_loss: 0.3249 - val_acc: 0.8826 - lr: 0.0010\n",
      "Epoch 7/30\n",
      "1480/1500 [============================>.] - ETA: 0s - loss: 0.2784 - acc: 0.8969\n",
      "Epoch 7: val_loss did not improve from 0.32494\n",
      "1500/1500 [==============================] - 3s 2ms/step - loss: 0.2778 - acc: 0.8970 - val_loss: 0.3389 - val_acc: 0.8770 - lr: 0.0010\n",
      "Epoch 8/30\n",
      "1499/1500 [============================>.] - ETA: 0s - loss: 0.2653 - acc: 0.9015\n",
      "Epoch 8: val_loss improved from 0.32494 to 0.32195, saving model to ./callback_files\\weights.008-0.3220.h5\n",
      "1500/1500 [==============================] - 3s 2ms/step - loss: 0.2654 - acc: 0.9014 - val_loss: 0.3220 - val_acc: 0.8826 - lr: 0.0010\n",
      "Epoch 9/30\n",
      "1465/1500 [============================>.] - ETA: 0s - loss: 0.2600 - acc: 0.9017\n",
      "Epoch 9: val_loss did not improve from 0.32195\n",
      "1500/1500 [==============================] - 3s 2ms/step - loss: 0.2593 - acc: 0.9020 - val_loss: 0.3398 - val_acc: 0.8782 - lr: 0.0010\n",
      "Epoch 10/30\n",
      "1495/1500 [============================>.] - ETA: 0s - loss: 0.2475 - acc: 0.9072\n",
      "Epoch 10: val_loss did not improve from 0.32195\n",
      "\n",
      "Epoch 10: ReduceLROnPlateau reducing learning rate to 0.00010000000474974513.\n",
      "1500/1500 [==============================] - 3s 2ms/step - loss: 0.2473 - acc: 0.9072 - val_loss: 0.3280 - val_acc: 0.8865 - lr: 0.0010\n",
      "Epoch 11/30\n",
      "1480/1500 [============================>.] - ETA: 0s - loss: 0.2016 - acc: 0.9248\n",
      "Epoch 11: val_loss improved from 0.32195 to 0.29907, saving model to ./callback_files\\weights.011-0.2991.h5\n",
      "1500/1500 [==============================] - 3s 2ms/step - loss: 0.2009 - acc: 0.9250 - val_loss: 0.2991 - val_acc: 0.8937 - lr: 1.0000e-04\n",
      "Epoch 12/30\n",
      "1484/1500 [============================>.] - ETA: 0s - loss: 0.1936 - acc: 0.9280\n",
      "Epoch 12: val_loss improved from 0.29907 to 0.29787, saving model to ./callback_files\\weights.012-0.2979.h5\n",
      "1500/1500 [==============================] - 3s 2ms/step - loss: 0.1936 - acc: 0.9281 - val_loss: 0.2979 - val_acc: 0.8947 - lr: 1.0000e-04\n",
      "Epoch 13/30\n",
      "1483/1500 [============================>.] - ETA: 0s - loss: 0.1902 - acc: 0.9299\n",
      "Epoch 13: val_loss did not improve from 0.29787\n",
      "1500/1500 [==============================] - 3s 2ms/step - loss: 0.1898 - acc: 0.9299 - val_loss: 0.2982 - val_acc: 0.8953 - lr: 1.0000e-04\n",
      "Epoch 14/30\n",
      "1492/1500 [============================>.] - ETA: 0s - loss: 0.1870 - acc: 0.9312\n",
      "Epoch 14: val_loss did not improve from 0.29787\n",
      "\n",
      "Epoch 14: ReduceLROnPlateau reducing learning rate to 1.0000000474974514e-05.\n",
      "1500/1500 [==============================] - 3s 2ms/step - loss: 0.1870 - acc: 0.9311 - val_loss: 0.3008 - val_acc: 0.8951 - lr: 1.0000e-04\n",
      "Epoch 15/30\n",
      "1494/1500 [============================>.] - ETA: 0s - loss: 0.1807 - acc: 0.9329\n",
      "Epoch 15: val_loss improved from 0.29787 to 0.29741, saving model to ./callback_files\\weights.015-0.2974.h5\n",
      "1500/1500 [==============================] - 3s 2ms/step - loss: 0.1807 - acc: 0.9329 - val_loss: 0.2974 - val_acc: 0.8969 - lr: 1.0000e-05\n",
      "Epoch 16/30\n",
      "1493/1500 [============================>.] - ETA: 0s - loss: 0.1799 - acc: 0.9334\n",
      "Epoch 16: val_loss did not improve from 0.29741\n",
      "1500/1500 [==============================] - 3s 2ms/step - loss: 0.1797 - acc: 0.9335 - val_loss: 0.2980 - val_acc: 0.8964 - lr: 1.0000e-05\n",
      "Epoch 17/30\n",
      "1469/1500 [============================>.] - ETA: 0s - loss: 0.1795 - acc: 0.9341\n",
      "Epoch 17: val_loss did not improve from 0.29741\n",
      "\n",
      "Epoch 17: ReduceLROnPlateau reducing learning rate to 1.0000000656873453e-06.\n",
      "1500/1500 [==============================] - 3s 2ms/step - loss: 0.1793 - acc: 0.9341 - val_loss: 0.2981 - val_acc: 0.8962 - lr: 1.0000e-05\n",
      "Epoch 18/30\n",
      "1473/1500 [============================>.] - ETA: 0s - loss: 0.1785 - acc: 0.9341\n",
      "Epoch 18: val_loss did not improve from 0.29741\n",
      "1500/1500 [==============================] - 3s 2ms/step - loss: 0.1784 - acc: 0.9341 - val_loss: 0.2981 - val_acc: 0.8964 - lr: 1.0000e-06\n",
      "Epoch 19/30\n",
      "1486/1500 [============================>.] - ETA: 0s - loss: 0.1780 - acc: 0.9342\n",
      "Epoch 19: val_loss did not improve from 0.29741\n",
      "\n",
      "Epoch 19: ReduceLROnPlateau reducing learning rate to 1.0000001111620805e-07.\n",
      "1500/1500 [==============================] - 3s 2ms/step - loss: 0.1784 - acc: 0.9341 - val_loss: 0.2981 - val_acc: 0.8966 - lr: 1.0000e-06\n",
      "Epoch 19: early stopping\n"
     ]
    }
   ],
   "source": [
    "from tensorflow.keras.optimizers import Adam\n",
    "from tensorflow.keras.losses import CategoricalCrossentropy\n",
    "from tensorflow.keras.metrics import Accuracy\n",
    "from tensorflow.keras.callbacks import ModelCheckpoint, ReduceLROnPlateau, EarlyStopping\n",
    "\n",
    "model = create_model()\n",
    "model.compile(optimizer=Adam(), loss=CategoricalCrossentropy(), metrics=['acc'])\n",
    "\n",
    "mcp_cb = ModelCheckpoint(\n",
    "    filepath='./callback_files/weights.{epoch:03d}-{val_loss:.4f}.h5', \n",
    "    monitor='val_loss', \n",
    "    save_best_only=True, \n",
    "    save_weights_only=True, \n",
    "    mode='min', \n",
    "    verbose=1)\n",
    "\n",
    "rlr_cb = ReduceLROnPlateau(\n",
    "    monitor='val_loss', \n",
    "    factor=0.1,\n",
    "    patience=2, \n",
    "    mode='min', \n",
    "    verbose=1)\n",
    "\n",
    "ely_cb = EarlyStopping(\n",
    "    monitor='val_loss', \n",
    "    patience=4, \n",
    "    mode='min', \n",
    "    verbose=1)\n",
    "\n",
    "history = model.fit(x=train_train_images, y=train_train_oh_targets, batch_size=32, epochs=30, validation_data=(validation_images, validation_oh_targets), callbacks=[mcp_cb, rlr_cb, ely_cb])"
   ]
  },
  {
   "cell_type": "code",
   "execution_count": 15,
   "id": "774a4c07",
   "metadata": {},
   "outputs": [
    {
     "data": {
      "image/png": "[encoded data removed]",
      "text/plain": [
       "<Figure size 640x480 with 1 Axes>"
      ]
     },
     "metadata": {},
     "output_type": "display_data"
    }
   ],
   "source": [
    "import matplotlib.pyplot as plt\n",
    "\n",
    "def show_history(history):\n",
    "    plt.plot(history.history['acc'], label='train')\n",
    "    plt.plot(history.history['val_acc'], label='validation')\n",
    "    plt.legend()\n",
    "\n",
    "show_history(history)"
   ]
  },
  {
   "cell_type": "code",
   "execution_count": 17,
   "id": "2e744558",
   "metadata": {},
   "outputs": [
    {
     "name": "stdout",
     "output_type": "stream",
     "text": [
      "313/313 [==============================] - 0s 1ms/step - loss: 0.3250 - acc: 0.8907\n"
     ]
    },
    {
     "data": {
      "text/plain": [
       "[0.3249518871307373, 0.8906999826431274]"
      ]
     },
     "execution_count": 17,
     "metadata": {},
     "output_type": "execute_result"
    }
   ],
   "source": [
    "model.evaluate(test_images, test_oh_targets, batch_size=32)"
   ]
  },
  {
   "cell_type": "code",
   "execution_count": null,
   "id": "473d477f",
   "metadata": {},
   "outputs": [],
   "source": [
    "pred_proba = model.predict(np.expand_dims(test_images[124], axis=0))\n",
    "print('softmax output:', pred_proba)\n",
    "pred = np.argmax(np.squeeze(pred_proba))\n",
    "print('predicted target value:', pred)"
   ]
  },
  {
   "cell_type": "code",
   "execution_count": null,
   "id": "4db285e1",
   "metadata": {},
   "outputs": [],
   "source": [
    "import matplotlib.pyplot as plt\n",
    "\n",
    "class_names = ['0', '1', '2', '3', '4', '5', '6', '7', '8', '9']\n",
    "plt.imshow(test_images[124], cmap='gray')\n",
    "plt.title(class_names[int(test_targets[124])])"
   ]
  },
  {
   "cell_type": "code",
   "execution_count": null,
   "id": "1bf7806c",
   "metadata": {},
   "outputs": [],
   "source": []
  }
 ],
 "metadata": {
  "kernelspec": {
   "display_name": "Python 3 (ipykernel)",
   "language": "python",
   "name": "python3"
  },
  "language_info": {
   "codemirror_mode": {
    "name": "ipython",
    "version": 3
   },
   "file_extension": ".py",
   "mimetype": "text/x-python",
   "name": "python",
   "nbconvert_exporter": "python",
   "pygments_lexer": "ipython3",
   "version": "3.11.5"
  }
 },
 "nbformat": 4,
 "nbformat_minor": 5
}
