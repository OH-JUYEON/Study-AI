{
 "cells": [
  {
   "cell_type": "markdown",
   "id": "afa44c14",
   "metadata": {},
   "source": [
    "### Sequential API, Functional API\n",
    "\n",
    "#### Sequential API\n",
    "- Sequential API는 간단한 모델을 구현하기에 적합하고 단순하게 층을 쌓는 방식으로 쉽고 사용하기가 간단하다.\n",
    "- Sequential API는 단일 입력 및 출력만 있으므로 레이어를 공유하거나 여러 입력 또는 출력을 가질 수 있는 모델을 생성할 수 없다.\n",
    "\n",
    "#### Functional API\n",
    "- Functional API는 Sequential API로는 구현하기 어려운 복잡한 모델들을 구현할 수 있다.\n",
    "- 여러 개의 입력(multi-input) 및 출력(multi-output)을 가진 모델을 구현하거나,  \n",
    "층 간의 연결이나 연산을 하는 모델을 구현할 때에는 Functional API를 사용해야 한다.\n",
    "\n",
    "<img src=\"./images/functional_api.png\" width=\"400\" style=\"margin-left: 0\">\n"
   ]
  },
  {
   "cell_type": "markdown",
   "id": "f9a6f8bc",
   "metadata": {},
   "source": [
    "##### Sequential API"
   ]
  },
  {
   "cell_type": "code",
   "execution_count": 91,
   "id": "72e6395c",
   "metadata": {},
   "outputs": [],
   "source": [
    "# pip install tensorflow\n",
    "# conda install -c conda-forge wrapt"
   ]
  },
  {
   "cell_type": "code",
   "execution_count": 92,
   "id": "d29b99d1",
   "metadata": {},
   "outputs": [
    {
     "name": "stdout",
     "output_type": "stream",
     "text": [
      "(60000, 28, 28) (60000,)\n",
      "(10000, 28, 28) (10000,)\n"
     ]
    }
   ],
   "source": [
    "from tensorflow.keras.datasets import fashion_mnist\n",
    "\n",
    "(train_images, train_targets), (test_images, test_targets) = fashion_mnist.load_data()\n",
    "\n",
    "print(train_images.shape, train_targets.shape)\n",
    "print(test_images.shape, test_targets.shape)"
   ]
  },
  {
   "cell_type": "code",
   "execution_count": 93,
   "id": "4f4cc5c4",
   "metadata": {},
   "outputs": [
    {
     "name": "stdout",
     "output_type": "stream",
     "text": [
      "(60000, 28, 28) (60000,)\n",
      "(10000, 28, 28) (10000,)\n"
     ]
    }
   ],
   "source": [
    "import numpy as np\n",
    "\n",
    "(train_images, train_targets), (test_images, test_targets) = fashion_mnist.load_data()\n",
    "\n",
    "def get_preprocessed_data(images, targets):\n",
    "    images = np.array(images / 255.0, dtype=np.float32)\n",
    "    targets = np.array(targets, dtype=np.float32)\n",
    "    \n",
    "    return images, targets\n",
    "\n",
    "train_images, train_targets = get_preprocessed_data(train_images, train_targets)\n",
    "test_images, test_targets = get_preprocessed_data(test_images, test_targets)\n",
    "\n",
    "print(train_images.shape, train_targets.shape)\n",
    "print(test_images.shape, test_targets.shape)"
   ]
  },
  {
   "cell_type": "code",
   "execution_count": 94,
   "id": "81e0df86",
   "metadata": {},
   "outputs": [
    {
     "name": "stdout",
     "output_type": "stream",
     "text": [
      "Model: \"sequential_5\"\n",
      "_________________________________________________________________\n",
      " Layer (type)                Output Shape              Param #   \n",
      "=================================================================\n",
      " flatten_7 (Flatten)         (None, 784)               0         \n",
      "                                                                 \n",
      " dense_21 (Dense)            (None, 64)                50240     \n",
      "                                                                 \n",
      " dense_22 (Dense)            (None, 128)               8320      \n",
      "                                                                 \n",
      " dense_23 (Dense)            (None, 10)                1290      \n",
      "                                                                 \n",
      "=================================================================\n",
      "Total params: 59850 (233.79 KB)\n",
      "Trainable params: 59850 (233.79 KB)\n",
      "Non-trainable params: 0 (0.00 Byte)\n",
      "_________________________________________________________________\n"
     ]
    }
   ],
   "source": [
    "INPUT_SIZE = 28\n",
    "\n",
    "from tensorflow.keras.layers import Dense, Flatten\n",
    "from tensorflow.keras.models import Sequential\n",
    "\n",
    "# 전부 Dense layer라고 부른다.\n",
    "# 학습할 데이터 많으면 neuron의 개수를 더 많이 지정(예, 64, 128 등)하고 은닉층(hidden layer)수를 더 늘려도 되고,\n",
    "# 학습할 데이터가 적으면 neuron 수와 은닉층 수를 줄이는 것이 좋다.\n",
    "model = Sequential([\n",
    "#     전체 28 * 28(784)개의 feature로 flatten 진행\n",
    "#     첫 번째 Input layer\n",
    "    Flatten(input_shape=(INPUT_SIZE, INPUT_SIZE)),\n",
    "#     두 번째 hidden layer\n",
    "    Dense(64, activation='relu'),\n",
    "#      세 번째 hidden layer\n",
    "    Dense(128, activation='relu'),\n",
    "#     네 번째 output layer\n",
    "    Dense(10, activation='softmax')\n",
    "])\n",
    "\n",
    "model.summary()"
   ]
  },
  {
   "cell_type": "code",
   "execution_count": 95,
   "id": "430b2e5e",
   "metadata": {},
   "outputs": [],
   "source": [
    "from tensorflow.keras.optimizers import Adam\n",
    "from tensorflow.keras.losses import CategoricalCrossentropy\n",
    "from tensorflow.keras.metrics import Accuracy\n",
    "\n",
    "model.compile(optimizer=Adam(0.001), loss=CategoricalCrossentropy(), metrics=['accuracy'])"
   ]
  },
  {
   "cell_type": "code",
   "execution_count": 96,
   "id": "e44c9a01",
   "metadata": {},
   "outputs": [
    {
     "name": "stdout",
     "output_type": "stream",
     "text": [
      "(60000, 10) (10000, 10)\n"
     ]
    }
   ],
   "source": [
    "from tensorflow.keras.utils import to_categorical\n",
    "\n",
    "train_oh_targets = to_categorical(train_targets)\n",
    "test_oh_targets = to_categorical(test_targets)\n",
    "\n",
    "print(train_oh_targets.shape, test_oh_targets.shape)"
   ]
  },
  {
   "cell_type": "code",
   "execution_count": 97,
   "id": "95a573bb",
   "metadata": {},
   "outputs": [
    {
     "data": {
      "text/plain": [
       "(60000, 28, 28)"
      ]
     },
     "execution_count": 97,
     "metadata": {},
     "output_type": "execute_result"
    }
   ],
   "source": [
    "train_images.shape"
   ]
  },
  {
   "cell_type": "code",
   "execution_count": 98,
   "id": "f80c2a51",
   "metadata": {},
   "outputs": [
    {
     "name": "stdout",
     "output_type": "stream",
     "text": [
      "Epoch 1/20\n",
      "1875/1875 [==============================] - 4s 2ms/step - loss: 0.5008 - accuracy: 0.8215\n",
      "Epoch 2/20\n",
      "1875/1875 [==============================] - 4s 2ms/step - loss: 0.3671 - accuracy: 0.8657\n",
      "Epoch 3/20\n",
      "1875/1875 [==============================] - 4s 2ms/step - loss: 0.3336 - accuracy: 0.8770\n",
      "Epoch 4/20\n",
      "1875/1875 [==============================] - 3s 2ms/step - loss: 0.3132 - accuracy: 0.8837\n",
      "Epoch 5/20\n",
      "1875/1875 [==============================] - 3s 2ms/step - loss: 0.2950 - accuracy: 0.8897\n",
      "Epoch 6/20\n",
      "1875/1875 [==============================] - 3s 2ms/step - loss: 0.2805 - accuracy: 0.8949\n",
      "Epoch 7/20\n",
      "1875/1875 [==============================] - 3s 2ms/step - loss: 0.2702 - accuracy: 0.8991\n",
      "Epoch 8/20\n",
      "1875/1875 [==============================] - 3s 2ms/step - loss: 0.2574 - accuracy: 0.9033\n",
      "Epoch 9/20\n",
      "1875/1875 [==============================] - 3s 2ms/step - loss: 0.2484 - accuracy: 0.9060\n",
      "Epoch 10/20\n",
      "1875/1875 [==============================] - 3s 2ms/step - loss: 0.2387 - accuracy: 0.9097\n",
      "Epoch 11/20\n",
      "1875/1875 [==============================] - 3s 2ms/step - loss: 0.2308 - accuracy: 0.9126\n",
      "Epoch 12/20\n",
      "1875/1875 [==============================] - 3s 2ms/step - loss: 0.2258 - accuracy: 0.9148\n",
      "Epoch 13/20\n",
      "1875/1875 [==============================] - 3s 2ms/step - loss: 0.2166 - accuracy: 0.9176\n",
      "Epoch 14/20\n",
      "1875/1875 [==============================] - 3s 2ms/step - loss: 0.2128 - accuracy: 0.9195\n",
      "Epoch 15/20\n",
      "1875/1875 [==============================] - 3s 2ms/step - loss: 0.2071 - accuracy: 0.9211\n",
      "Epoch 16/20\n",
      "1875/1875 [==============================] - 3s 2ms/step - loss: 0.1997 - accuracy: 0.9236\n",
      "Epoch 17/20\n",
      "1875/1875 [==============================] - 3s 2ms/step - loss: 0.1943 - accuracy: 0.9263\n",
      "Epoch 18/20\n",
      "1875/1875 [==============================] - 3s 2ms/step - loss: 0.1919 - accuracy: 0.9257\n",
      "Epoch 19/20\n",
      "1875/1875 [==============================] - 3s 2ms/step - loss: 0.1856 - accuracy: 0.9289\n",
      "Epoch 20/20\n",
      "1875/1875 [==============================] - 3s 2ms/step - loss: 0.1816 - accuracy: 0.9304\n"
     ]
    }
   ],
   "source": [
    "history = model.fit(x=train_images, y=train_oh_targets, batch_size=32, epochs=20, verbose=1)"
   ]
  },
  {
   "cell_type": "code",
   "execution_count": 99,
   "id": "dcee73c1",
   "metadata": {},
   "outputs": [
    {
     "name": "stdout",
     "output_type": "stream",
     "text": [
      "[0.5008272528648376, 0.3671317398548126, 0.3336018919944763, 0.3132123649120331, 0.2949954867362976, 0.28048962354660034, 0.27015233039855957, 0.25744757056236267, 0.24844102561473846, 0.23872973024845123, 0.23076513409614563, 0.2257712334394455, 0.2166418731212616, 0.21277333796024323, 0.20709621906280518, 0.19967563450336456, 0.1942806839942932, 0.19191491603851318, 0.18564413487911224, 0.18158118426799774]\n",
      "================================================================================\n",
      "[0.821483314037323, 0.8656833171844482, 0.8769833445549011, 0.8836833238601685, 0.8896999955177307, 0.8949166536331177, 0.8991000056266785, 0.9032833576202393, 0.9059666395187378, 0.9096666574478149, 0.9125999808311462, 0.914816677570343, 0.9176499843597412, 0.9195333123207092, 0.9211166501045227, 0.9235666394233704, 0.9262666702270508, 0.9257333278656006, 0.9289166927337646, 0.9304333329200745]\n"
     ]
    }
   ],
   "source": [
    "print(history.history['loss'])\n",
    "print(\"=\" * 80)\n",
    "print(history.history['accuracy'])"
   ]
  },
  {
   "cell_type": "code",
   "execution_count": 100,
   "id": "486dc70a",
   "metadata": {},
   "outputs": [
    {
     "name": "stdout",
     "output_type": "stream",
     "text": [
      "1/1 [==============================] - 0s 52ms/step\n",
      "softmax output: [[1.7752725e-05 3.5553780e-09 9.9473978e-11 1.4827333e-08 5.8519051e-10\n",
      "  1.3724649e-06 6.3483823e-09 4.3022055e-03 1.7856648e-08 9.9567872e-01]]\n",
      "predicted target value: 9\n"
     ]
    }
   ],
   "source": [
    "pred_proba = model.predict(np.expand_dims(test_images[0], axis=0))\n",
    "print('softmax output:', pred_proba)\n",
    "pred = np.argmax(np.squeeze(pred_proba))\n",
    "print('predicted target value:', pred)"
   ]
  },
  {
   "cell_type": "code",
   "execution_count": 101,
   "id": "503ac254",
   "metadata": {},
   "outputs": [
    {
     "data": {
      "text/plain": [
       "Text(0.5, 1.0, '9. Ankle boot')"
      ]
     },
     "execution_count": 101,
     "metadata": {},
     "output_type": "execute_result"
    },
    {
     "data": {
      "image/png": "[encoded data removed]",
      "text/plain": [
       "<Figure size 640x480 with 1 Axes>"
      ]
     },
     "metadata": {},
     "output_type": "display_data"
    }
   ],
   "source": [
    "import matplotlib.pyplot as plt\n",
    "\n",
    "class_names = ['T-shirt/top', 'Trouser', 'Pullover', 'Dress', 'Coat','Sandal', 'Shirt', 'Sneaker', 'Bag', 'Ankle boot']\n",
    "plt.imshow(test_images[0], cmap='gray')\n",
    "plt.title(str(int(test_targets[0])) + '. ' + class_names[int(test_targets[0])])"
   ]
  },
  {
   "cell_type": "code",
   "execution_count": 102,
   "id": "b80762d2",
   "metadata": {},
   "outputs": [
    {
     "name": "stdout",
     "output_type": "stream",
     "text": [
      "313/313 [==============================] - 0s 1ms/step - loss: 0.3751 - accuracy: 0.8828\n"
     ]
    },
    {
     "data": {
      "text/plain": [
       "[0.3751051723957062, 0.8827999830245972]"
      ]
     },
     "execution_count": 102,
     "metadata": {},
     "output_type": "execute_result"
    }
   ],
   "source": [
    "model.evaluate(test_images, test_oh_targets, batch_size=32)"
   ]
  },
  {
   "cell_type": "markdown",
   "id": "991169f8",
   "metadata": {},
   "source": [
    "##### Validation Data\n",
    "- 훈련 데이터를 잘 맞추는 모델이 아니라, 학습에 사용하지 않은 테스트 데이터를 얼마나 잘 맞추는지가 목적이다.\n",
    "- 훈련 데이터로 모델을 만들고 검증 데이터로 성능을 평가한다.\n",
    "- 성능이 만족스럽다면, 해당 모델에 훈련 데이터와 검증 데이터를 합쳐서 학습 시킨 후 테스트 데이터를 넣어 확인한다.\n",
    "\n",
    "<img src=\"./images/validation.jpg\" width=\"500\" style=\"margin-left: 0\">"
   ]
  },
  {
   "cell_type": "code",
   "execution_count": 103,
   "id": "f2b5437e",
   "metadata": {},
   "outputs": [],
   "source": [
    "import numpy as np\n",
    "from tensorflow.keras.datasets import fashion_mnist\n",
    "\n",
    "(train_images, train_targets), (test_images, test_targets) = fashion_mnist.load_data()\n",
    "\n",
    "def get_preprocessed_data(images, targets):\n",
    "    images = np.array(images / 255.0, dtype=np.float32)\n",
    "    targets = np.array(targets, dtype=np.float32)\n",
    "    \n",
    "    return images, targets\n",
    "\n",
    "train_images, train_targets = get_preprocessed_data(train_images, train_targets)\n",
    "test_images, test_targets = get_preprocessed_data(test_images, test_targets)"
   ]
  },
  {
   "cell_type": "code",
   "execution_count": 104,
   "id": "65d9a4ad",
   "metadata": {},
   "outputs": [
    {
     "name": "stdout",
     "output_type": "stream",
     "text": [
      "(48000, 28, 28) (48000,) (12000, 28, 28) (12000,)\n",
      "(48000, 10) (12000, 10)\n"
     ]
    }
   ],
   "source": [
    "from sklearn.model_selection import train_test_split\n",
    "from tensorflow.keras.utils import to_categorical\n",
    "\n",
    "train_train_images, validation_images, train_train_targets, validation_targets = train_test_split(train_images, train_targets, test_size=0.2, stratify=train_targets, random_state=124)\n",
    "print(train_train_images.shape, train_train_targets.shape, validation_images.shape, validation_targets.shape)\n",
    "\n",
    "train_train_oh_targets = to_categorical(train_train_targets)\n",
    "validation_oh_targets = to_categorical(validation_targets)\n",
    "\n",
    "print(train_train_oh_targets.shape, validation_oh_targets.shape)"
   ]
  },
  {
   "cell_type": "code",
   "execution_count": 105,
   "id": "6551f16d",
   "metadata": {},
   "outputs": [],
   "source": [
    "from tensorflow.keras.layers import Dense, Flatten\n",
    "from tensorflow.keras.models import Sequential\n",
    "from tensorflow.keras.optimizers import Adam\n",
    "\n",
    "INPUT_SIZE = 28\n",
    "\n",
    "model = Sequential([\n",
    "    Flatten(input_shape=(INPUT_SIZE, INPUT_SIZE)),\n",
    "    Dense(64, activation='relu'),\n",
    "    Dense(128, activation='relu'),\n",
    "    Dense(10, activation='softmax')\n",
    "])\n",
    "\n",
    "model.compile(optimizer=Adam(0.001), loss=CategoricalCrossentropy(), metrics=['acc'])"
   ]
  },
  {
   "cell_type": "code",
   "execution_count": 106,
   "id": "65122af2",
   "metadata": {},
   "outputs": [
    {
     "name": "stdout",
     "output_type": "stream",
     "text": [
      "Epoch 1/20\n",
      "1500/1500 - 3s - loss: 0.5228 - acc: 0.8131 - val_loss: 0.3979 - val_acc: 0.8525 - 3s/epoch - 2ms/step\n",
      "Epoch 2/20\n",
      "1500/1500 - 2s - loss: 0.3810 - acc: 0.8612 - val_loss: 0.3900 - val_acc: 0.8590 - 2s/epoch - 1ms/step\n",
      "Epoch 3/20\n",
      "1500/1500 - 2s - loss: 0.3457 - acc: 0.8723 - val_loss: 0.3756 - val_acc: 0.8631 - 2s/epoch - 1ms/step\n",
      "Epoch 4/20\n",
      "1500/1500 - 2s - loss: 0.3214 - acc: 0.8836 - val_loss: 0.3466 - val_acc: 0.8758 - 2s/epoch - 1ms/step\n",
      "Epoch 5/20\n",
      "1500/1500 - 2s - loss: 0.3030 - acc: 0.8890 - val_loss: 0.3381 - val_acc: 0.8767 - 2s/epoch - 1ms/step\n",
      "Epoch 6/20\n",
      "1500/1500 - 2s - loss: 0.2905 - acc: 0.8926 - val_loss: 0.3247 - val_acc: 0.8777 - 2s/epoch - 1ms/step\n",
      "Epoch 7/20\n",
      "1500/1500 - 2s - loss: 0.2781 - acc: 0.8962 - val_loss: 0.3172 - val_acc: 0.8870 - 2s/epoch - 1ms/step\n",
      "Epoch 8/20\n",
      "1500/1500 - 2s - loss: 0.2666 - acc: 0.9007 - val_loss: 0.3229 - val_acc: 0.8845 - 2s/epoch - 1ms/step\n",
      "Epoch 9/20\n",
      "1500/1500 - 2s - loss: 0.2570 - acc: 0.9030 - val_loss: 0.3073 - val_acc: 0.8893 - 2s/epoch - 1ms/step\n",
      "Epoch 10/20\n",
      "1500/1500 - 2s - loss: 0.2470 - acc: 0.9079 - val_loss: 0.3057 - val_acc: 0.8910 - 2s/epoch - 1ms/step\n",
      "Epoch 11/20\n",
      "1500/1500 - 2s - loss: 0.2374 - acc: 0.9109 - val_loss: 0.3213 - val_acc: 0.8842 - 2s/epoch - 1ms/step\n",
      "Epoch 12/20\n",
      "1500/1500 - 2s - loss: 0.2319 - acc: 0.9118 - val_loss: 0.3112 - val_acc: 0.8904 - 2s/epoch - 1ms/step\n",
      "Epoch 13/20\n",
      "1500/1500 - 2s - loss: 0.2229 - acc: 0.9165 - val_loss: 0.3292 - val_acc: 0.8894 - 2s/epoch - 1ms/step\n",
      "Epoch 14/20\n",
      "1500/1500 - 2s - loss: 0.2187 - acc: 0.9179 - val_loss: 0.3191 - val_acc: 0.8914 - 2s/epoch - 1ms/step\n",
      "Epoch 15/20\n",
      "1500/1500 - 2s - loss: 0.2126 - acc: 0.9179 - val_loss: 0.3287 - val_acc: 0.8872 - 2s/epoch - 1ms/step\n",
      "Epoch 16/20\n",
      "1500/1500 - 2s - loss: 0.2053 - acc: 0.9225 - val_loss: 0.3671 - val_acc: 0.8763 - 2s/epoch - 1ms/step\n",
      "Epoch 17/20\n",
      "1500/1500 - 2s - loss: 0.2010 - acc: 0.9225 - val_loss: 0.3381 - val_acc: 0.8908 - 2s/epoch - 1ms/step\n",
      "Epoch 18/20\n",
      "1500/1500 - 2s - loss: 0.1936 - acc: 0.9266 - val_loss: 0.3372 - val_acc: 0.8931 - 2s/epoch - 1ms/step\n",
      "Epoch 19/20\n",
      "1500/1500 - 2s - loss: 0.1892 - acc: 0.9274 - val_loss: 0.3315 - val_acc: 0.8897 - 2s/epoch - 1ms/step\n",
      "Epoch 20/20\n",
      "1500/1500 - 2s - loss: 0.1826 - acc: 0.9313 - val_loss: 0.3366 - val_acc: 0.8951 - 2s/epoch - 1ms/step\n"
     ]
    }
   ],
   "source": [
    "history = model.fit(x=train_train_images, y=train_train_oh_targets, batch_size=32, validation_data=(validation_images, validation_oh_targets), epochs=20, verbose=2)"
   ]
  },
  {
   "cell_type": "code",
   "execution_count": 107,
   "id": "83edd26e",
   "metadata": {},
   "outputs": [
    {
     "name": "stdout",
     "output_type": "stream",
     "text": [
      "[0.5228098630905151, 0.38103777170181274, 0.34574276208877563, 0.32140815258026123, 0.3029909133911133, 0.29049327969551086, 0.27811968326568604, 0.26663005352020264, 0.2569856643676758, 0.24699245393276215, 0.2373528629541397, 0.23192907869815826, 0.2229238897562027, 0.2186550348997116, 0.21262003481388092, 0.2053404301404953, 0.20102474093437195, 0.19361437857151031, 0.1892336905002594, 0.18262284994125366]\n",
      "================================================================================\n",
      "[0.8131250143051147, 0.8611666560173035, 0.8722916841506958, 0.8836458325386047, 0.8889583349227905, 0.8925833106040955, 0.8962291479110718, 0.9006875157356262, 0.9029791951179504, 0.9078958630561829, 0.910895824432373, 0.9117916822433472, 0.9164999723434448, 0.9178749918937683, 0.9179166555404663, 0.9225416779518127, 0.9224583506584167, 0.926604151725769, 0.9274166822433472, 0.9313333630561829]\n",
      "================================================================================\n",
      "[0.39790043234825134, 0.38998550176620483, 0.3755967319011688, 0.3466331660747528, 0.33806663751602173, 0.32473042607307434, 0.3172329068183899, 0.32294347882270813, 0.30733275413513184, 0.3056918978691101, 0.321312814950943, 0.3112303912639618, 0.32917675375938416, 0.3190840780735016, 0.32867684960365295, 0.3671497702598572, 0.33812087774276733, 0.33718952536582947, 0.3315395712852478, 0.3366038501262665]\n",
      "================================================================================\n",
      "[0.8525000214576721, 0.859000027179718, 0.8630833625793457, 0.8758333325386047, 0.8767499923706055, 0.8776666522026062, 0.8870000243186951, 0.8845000267028809, 0.8893333077430725, 0.890999972820282, 0.8841666579246521, 0.89041668176651, 0.8894166946411133, 0.8914166688919067, 0.8871666789054871, 0.8763333559036255, 0.89083331823349, 0.8930833339691162, 0.8896666765213013, 0.8950833082199097]\n"
     ]
    }
   ],
   "source": [
    "print(history.history['loss'])\n",
    "print(\"=\" * 80)\n",
    "print(history.history['acc'])\n",
    "print(\"=\" * 80)\n",
    "print(history.history['val_loss'])\n",
    "print(\"=\" * 80)\n",
    "print(history.history['val_acc'])"
   ]
  },
  {
   "cell_type": "code",
   "execution_count": 108,
   "id": "c85e3572",
   "metadata": {},
   "outputs": [
    {
     "data": {
      "text/plain": [
       "<matplotlib.legend.Legend at 0x24a9d169110>"
      ]
     },
     "execution_count": 108,
     "metadata": {},
     "output_type": "execute_result"
    },
    {
     "data": {
      "image/png": "[encoded data removed]",
      "text/plain": [
       "<Figure size 640x480 with 1 Axes>"
      ]
     },
     "metadata": {},
     "output_type": "display_data"
    }
   ],
   "source": [
    "import matplotlib.pyplot as plt\n",
    "\n",
    "plt.plot(history.history['acc'], label='train')\n",
    "plt.plot(history.history['val_acc'], label='validation')\n",
    "plt.legend()"
   ]
  },
  {
   "cell_type": "code",
   "execution_count": 109,
   "id": "5716d3b5",
   "metadata": {},
   "outputs": [
    {
     "name": "stdout",
     "output_type": "stream",
     "text": [
      "1/1 [==============================] - 0s 50ms/step\n",
      "softmax output:  [[3.1856484e-10 1.7202494e-22 3.3867947e-13 2.0621325e-13 2.3461651e-17\n",
      "  1.0000000e+00 5.9894091e-16 3.7674321e-14 7.5356584e-14 3.5585305e-16]]\n",
      "predicted target value:  5\n"
     ]
    }
   ],
   "source": [
    "pred_proba = model.predict(np.expand_dims(test_images[8], axis=0))\n",
    "print('softmax output: ', pred_proba)\n",
    "pred = np.argmax(np.squeeze(pred_proba))\n",
    "print('predicted target value: ', pred)"
   ]
  },
  {
   "cell_type": "code",
   "execution_count": 110,
   "id": "034f9ce1",
   "metadata": {},
   "outputs": [
    {
     "data": {
      "text/plain": [
       "Text(0.5, 1.0, '5. Sandal')"
      ]
     },
     "execution_count": 110,
     "metadata": {},
     "output_type": "execute_result"
    },
    {
     "data": {
      "image/png": "[encoded data removed]",
      "text/plain": [
       "<Figure size 640x480 with 1 Axes>"
      ]
     },
     "metadata": {},
     "output_type": "display_data"
    }
   ],
   "source": [
    "import matplotlib.pyplot as plt\n",
    "\n",
    "class_names = ['T-shirt/top', 'Trouser', 'Pullover', 'Dress', 'Coat','Sandal', 'Shirt', 'Sneaker', 'Bag', 'Ankle boot']\n",
    "plt.imshow(test_images[8], cmap='gray')\n",
    "plt.title(str(int(test_targets[8])) + '. ' + class_names[int(test_targets[8])])"
   ]
  },
  {
   "cell_type": "code",
   "execution_count": 111,
   "id": "edda1c5b",
   "metadata": {},
   "outputs": [
    {
     "name": "stdout",
     "output_type": "stream",
     "text": [
      "313/313 [==============================] - 1s 1ms/step - loss: 0.3684 - acc: 0.8893\n"
     ]
    },
    {
     "data": {
      "text/plain": [
       "[0.36842113733291626, 0.8892999887466431]"
      ]
     },
     "execution_count": 111,
     "metadata": {},
     "output_type": "execute_result"
    }
   ],
   "source": [
    "model.evaluate(test_images, test_oh_targets, batch_size=32)"
   ]
  },
  {
   "cell_type": "markdown",
   "id": "d3ba114a",
   "metadata": {},
   "source": [
    "##### Functional API"
   ]
  },
  {
   "cell_type": "code",
   "execution_count": 112,
   "id": "49dee848",
   "metadata": {},
   "outputs": [
    {
     "name": "stdout",
     "output_type": "stream",
     "text": [
      "30\n"
     ]
    }
   ],
   "source": [
    "class Test:\n",
    "    def __call__(self, data):\n",
    "        return data + 10\n",
    "\n",
    "print(Test()(20))"
   ]
  },
  {
   "cell_type": "code",
   "execution_count": 113,
   "id": "e651b6df",
   "metadata": {},
   "outputs": [],
   "source": [
    "from tensorflow.keras.layers import Layer, Input, Dense, Flatten\n",
    "from tensorflow.keras.models import Model\n",
    "import tensorflow as tf\n",
    "\n",
    "INPUT_SIZE = 28\n",
    "\n",
    "def create_model():\n",
    "    input_tensor = Input(shape=(INPUT_SIZE, INPUT_SIZE))\n",
    "    x = Flatten()(input_tensor)\n",
    "    x = Dense(64, activation='relu')(x)\n",
    "    x = Dense(128, activation='relu')(x)\n",
    "    output = Dense(10, activation='softmax')(x)\n",
    "    \n",
    "    model = Model(inputs=input_tensor, outputs=output)\n",
    "    return model"
   ]
  },
  {
   "cell_type": "code",
   "execution_count": 114,
   "id": "36b3314a",
   "metadata": {},
   "outputs": [],
   "source": [
    "import numpy as np\n",
    "from tensorflow.keras.utils import to_categorical\n",
    "from sklearn.model_selection import train_test_split\n",
    "from tensorflow.keras.datasets import fashion_mnist\n",
    "\n",
    "(train_images, train_targets), (test_images, test_targets) = fashion_mnist.load_data()\n",
    "\n",
    "def get_preprocessed_data(images, targets):\n",
    "    images = np.array(images / 255.0, dtype=np.float32)\n",
    "    targets = np.array(targets, dtype=np.float32)\n",
    "    \n",
    "    return images, targets\n",
    "\n",
    "def get_preprocessed_ohe(images, targets):\n",
    "    images, targets = get_preprocessed_data(images, targets)\n",
    "    oh_targets = to_categorical(targets)\n",
    "    return images, oh_targets\n",
    "\n",
    "def get_train_valid_test(train_images, train_targets, test_images, test_targets, validation_size=0.2, random_state=124):\n",
    "    train_images, train_oh_targets = get_preprocessed_ohe(train_images, train_targets)\n",
    "    test_images, test_oh_targets = get_preprocessed_ohe(test_images, test_targets)\n",
    "    \n",
    "    train_train_images, validation_images, train_train_oh_targets, validation_oh_targets = \\\n",
    "    train_test_split(train_images, train_oh_targets, stratify=train_oh_targets, test_size=validation_size, random_state=random_state)\n",
    "    \n",
    "    return (train_train_images, train_train_oh_targets), (validation_images, validation_oh_targets), (test_images, test_oh_targets)"
   ]
  },
  {
   "cell_type": "code",
   "execution_count": 115,
   "id": "6f465bb7",
   "metadata": {},
   "outputs": [
    {
     "name": "stdout",
     "output_type": "stream",
     "text": [
      "(48000, 28, 28) (48000, 10)\n",
      "(12000, 28, 28) (12000, 10)\n",
      "(10000, 28, 28) (10000, 10)\n"
     ]
    }
   ],
   "source": [
    "from tensorflow.keras.datasets import fashion_mnist\n",
    "\n",
    "(train_images, train_targets), (test_images, test_targets) = fashion_mnist.load_data()\n",
    "\n",
    "(train_train_images, train_train_oh_targets), (validation_images, validation_oh_targets), (test_images, test_oh_targets) = \\\n",
    "get_train_valid_test(train_images, train_targets, test_images, test_targets)\n",
    "\n",
    "print(train_train_images.shape, train_train_oh_targets.shape)\n",
    "print(validation_images.shape, validation_oh_targets.shape)\n",
    "print(test_images.shape, test_oh_targets.shape)"
   ]
  },
  {
   "cell_type": "code",
   "execution_count": 116,
   "id": "41e3d0b3",
   "metadata": {},
   "outputs": [
    {
     "name": "stdout",
     "output_type": "stream",
     "text": [
      "Model: \"model_2\"\n",
      "_________________________________________________________________\n",
      " Layer (type)                Output Shape              Param #   \n",
      "=================================================================\n",
      " input_3 (InputLayer)        [(None, 28, 28)]          0         \n",
      "                                                                 \n",
      " flatten_9 (Flatten)         (None, 784)               0         \n",
      "                                                                 \n",
      " dense_27 (Dense)            (None, 64)                50240     \n",
      "                                                                 \n",
      " dense_28 (Dense)            (None, 128)               8320      \n",
      "                                                                 \n",
      " dense_29 (Dense)            (None, 10)                1290      \n",
      "                                                                 \n",
      "=================================================================\n",
      "Total params: 59850 (233.79 KB)\n",
      "Trainable params: 59850 (233.79 KB)\n",
      "Non-trainable params: 0 (0.00 Byte)\n",
      "_________________________________________________________________\n"
     ]
    }
   ],
   "source": [
    "from tensorflow.keras.optimizers import Adam\n",
    "\n",
    "model = create_model()\n",
    "model.summary()\n",
    "\n",
    "model.compile(optimizer=Adam(0.001), loss=CategoricalCrossentropy(), metrics=['acc'])"
   ]
  },
  {
   "cell_type": "code",
   "execution_count": 117,
   "id": "fac1102a",
   "metadata": {},
   "outputs": [
    {
     "name": "stdout",
     "output_type": "stream",
     "text": [
      "Epoch 1/20\n",
      "750/750 [==============================] - 2s 2ms/step - loss: 0.5540 - acc: 0.8019 - val_loss: 0.4332 - val_acc: 0.8441\n",
      "Epoch 2/20\n",
      "750/750 [==============================] - 2s 2ms/step - loss: 0.3919 - acc: 0.8591 - val_loss: 0.3891 - val_acc: 0.8560\n",
      "Epoch 3/20\n",
      "750/750 [==============================] - 2s 2ms/step - loss: 0.3536 - acc: 0.8716 - val_loss: 0.3556 - val_acc: 0.8700\n",
      "Epoch 4/20\n",
      "750/750 [==============================] - 2s 2ms/step - loss: 0.3288 - acc: 0.8789 - val_loss: 0.3338 - val_acc: 0.8773\n",
      "Epoch 5/20\n",
      "750/750 [==============================] - 2s 2ms/step - loss: 0.3093 - acc: 0.8865 - val_loss: 0.3588 - val_acc: 0.8692\n",
      "Epoch 6/20\n",
      "750/750 [==============================] - 2s 2ms/step - loss: 0.2938 - acc: 0.8916 - val_loss: 0.3328 - val_acc: 0.8775\n",
      "Epoch 7/20\n",
      "750/750 [==============================] - 2s 2ms/step - loss: 0.2841 - acc: 0.8944 - val_loss: 0.3331 - val_acc: 0.8807\n",
      "Epoch 8/20\n",
      "750/750 [==============================] - 2s 2ms/step - loss: 0.2720 - acc: 0.9001 - val_loss: 0.3246 - val_acc: 0.8809\n",
      "Epoch 9/20\n",
      "750/750 [==============================] - 2s 2ms/step - loss: 0.2640 - acc: 0.9019 - val_loss: 0.3150 - val_acc: 0.8838\n",
      "Epoch 10/20\n",
      "750/750 [==============================] - 2s 2ms/step - loss: 0.2527 - acc: 0.9057 - val_loss: 0.3207 - val_acc: 0.8853\n",
      "Epoch 11/20\n",
      "750/750 [==============================] - 2s 2ms/step - loss: 0.2431 - acc: 0.9093 - val_loss: 0.3319 - val_acc: 0.8864\n",
      "Epoch 12/20\n",
      "750/750 [==============================] - 2s 2ms/step - loss: 0.2371 - acc: 0.9111 - val_loss: 0.3200 - val_acc: 0.8876\n",
      "Epoch 13/20\n",
      "750/750 [==============================] - 2s 2ms/step - loss: 0.2293 - acc: 0.9150 - val_loss: 0.3442 - val_acc: 0.8786\n",
      "Epoch 14/20\n",
      "750/750 [==============================] - 2s 2ms/step - loss: 0.2235 - acc: 0.9155 - val_loss: 0.3268 - val_acc: 0.8878\n",
      "Epoch 15/20\n",
      "750/750 [==============================] - 2s 2ms/step - loss: 0.2143 - acc: 0.9197 - val_loss: 0.3263 - val_acc: 0.8881\n",
      "Epoch 16/20\n",
      "750/750 [==============================] - 2s 2ms/step - loss: 0.2109 - acc: 0.9213 - val_loss: 0.3335 - val_acc: 0.8833\n",
      "Epoch 17/20\n",
      "750/750 [==============================] - 2s 2ms/step - loss: 0.2063 - acc: 0.9229 - val_loss: 0.3471 - val_acc: 0.8865\n",
      "Epoch 18/20\n",
      "750/750 [==============================] - 2s 2ms/step - loss: 0.1991 - acc: 0.9240 - val_loss: 0.3381 - val_acc: 0.8867\n",
      "Epoch 19/20\n",
      "750/750 [==============================] - 2s 2ms/step - loss: 0.1923 - acc: 0.9273 - val_loss: 0.3305 - val_acc: 0.8923\n",
      "Epoch 20/20\n",
      "750/750 [==============================] - 2s 2ms/step - loss: 0.1899 - acc: 0.9282 - val_loss: 0.3663 - val_acc: 0.8777\n"
     ]
    }
   ],
   "source": [
    "history = model.fit(\n",
    "    x=train_train_images, \n",
    "    y=train_train_oh_targets, \n",
    "    batch_size=64, \n",
    "    epochs=20, \n",
    "    validation_data=(validation_images, validation_oh_targets))"
   ]
  },
  {
   "cell_type": "code",
   "execution_count": 118,
   "id": "7bd42e26",
   "metadata": {},
   "outputs": [
    {
     "data": {
      "image/png": "[encoded data removed]",
      "text/plain": [
       "<Figure size 640x480 with 1 Axes>"
      ]
     },
     "metadata": {},
     "output_type": "display_data"
    }
   ],
   "source": [
    "import matplotlib.pyplot as plt\n",
    "\n",
    "def show_history(history):\n",
    "    plt.plot(history.history['acc'], label='train')\n",
    "    plt.plot(history.history['val_acc'], label='validation')\n",
    "    plt.legend()\n",
    "\n",
    "show_history(history)"
   ]
  },
  {
   "cell_type": "code",
   "execution_count": 121,
   "id": "9f5d7d9c",
   "metadata": {},
   "outputs": [
    {
     "name": "stdout",
     "output_type": "stream",
     "text": [
      "1/1 [==============================] - 0s 30ms/step\n",
      "softmax output:  [[2.8382384e-03 1.3250124e-07 4.8619320e-04 9.9617720e-01 2.3164761e-05\n",
      "  1.3443002e-11 4.2606657e-04 7.1612292e-14 4.9007489e-05 1.9795545e-09]]\n",
      "predicted target value:  3\n"
     ]
    }
   ],
   "source": [
    "pred_proba = model.predict(np.expand_dims(test_images[124], axis=0))\n",
    "print('softmax output: ', pred_proba)\n",
    "pred = np.argmax(np.squeeze(pred_proba))\n",
    "print('predicted target value: ', pred)"
   ]
  },
  {
   "cell_type": "code",
   "execution_count": 120,
   "id": "f4575257",
   "metadata": {},
   "outputs": [
    {
     "data": {
      "text/plain": [
       "Text(0.5, 1.0, '3. Dress')"
      ]
     },
     "execution_count": 120,
     "metadata": {},
     "output_type": "execute_result"
    },
    {
     "data": {
      "image/png": "[encoded data removed]",
      "text/plain": [
       "<Figure size 640x480 with 1 Axes>"
      ]
     },
     "metadata": {},
     "output_type": "display_data"
    }
   ],
   "source": [
    "import matplotlib.pyplot as plt\n",
    "\n",
    "class_names = ['T-shirt/top', 'Trouser', 'Pullover', 'Dress', 'Coat','Sandal', 'Shirt', 'Sneaker', 'Bag', 'Ankle boot']\n",
    "plt.imshow(test_images[124], cmap='gray')\n",
    "plt.title(str(int(test_targets[124])) + '. ' + class_names[int(test_targets[124])])"
   ]
  },
  {
   "cell_type": "code",
   "execution_count": 122,
   "id": "9139034d",
   "metadata": {},
   "outputs": [
    {
     "name": "stdout",
     "output_type": "stream",
     "text": [
      "157/157 [==============================] - 0s 1ms/step - loss: 0.3958 - acc: 0.8748\n"
     ]
    },
    {
     "data": {
      "text/plain": [
       "[0.39579224586486816, 0.8748000264167786]"
      ]
     },
     "execution_count": 122,
     "metadata": {},
     "output_type": "execute_result"
    }
   ],
   "source": [
    "model.evaluate(test_images, test_oh_targets, batch_size=64)"
   ]
  }
 ],
 "metadata": {
  "kernelspec": {
   "display_name": "Python 3 (ipykernel)",
   "language": "python",
   "name": "python3"
  },
  "language_info": {
   "codemirror_mode": {
    "name": "ipython",
    "version": 3
   },
   "file_extension": ".py",
   "mimetype": "text/x-python",
   "name": "python",
   "nbconvert_exporter": "python",
   "pygments_lexer": "ipython3",
   "version": "3.11.5"
  }
 },
 "nbformat": 4,
 "nbformat_minor": 5
}
