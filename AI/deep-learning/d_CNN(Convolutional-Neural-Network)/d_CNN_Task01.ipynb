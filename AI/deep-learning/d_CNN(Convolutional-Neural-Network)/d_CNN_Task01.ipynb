{
 "cells": [
  {
   "cell_type": "markdown",
   "id": "7ebaba3c",
   "metadata": {},
   "source": [
    "### CNN Task01\n",
    "\n",
    "##### 동물 분류\n",
    "\n",
    "https://drive.google.com/file/d/1_d8RcCM21XneorFe_m4939erMkCnccS1/view?usp=drive_link"
   ]
  },
  {
   "cell_type": "code",
   "execution_count": 1,
   "id": "ee47a489",
   "metadata": {},
   "outputs": [
    {
     "name": "stdout",
     "output_type": "stream",
     "text": [
      "{'cane': 'dog', 'cavallo': 'horse', 'elefante': 'elephant', 'farfalla': 'butterfly', 'gallina': 'chicken', 'gatto': 'cat', 'mucca': 'cow', 'pecora': 'sheep', 'scoiattolo': 'squirrel', 'dog': 'cane', 'elephant': 'elefante', 'butterfly': 'farfalla', 'chicken': 'gallina', 'cat': 'gatto', 'cow': 'mucca', 'spider': 'ragno', 'squirrel': 'scoiattolo'}\n",
      "{'dog': 'cane', 'horse': 'cavallo', 'elephant': 'elefante', 'butterfly': 'farfalla', 'chicken': 'gallina', 'cat': 'gatto', 'cow': 'mucca', 'sheep': 'pecora', 'squirrel': 'scoiattolo', 'cane': 'dog', 'elefante': 'elephant', 'farfalla': 'butterfly', 'gallina': 'chicken', 'gatto': 'cat', 'mucca': 'cow', 'ragno': 'spider', 'scoiattolo': 'squirrel'}\n"
     ]
    }
   ],
   "source": [
    "file = open('./datasets/animals/translate.py', 'r')\n",
    "content = file.readline()\n",
    "content = content[content.index('{'): content.index('}') + 1]\n",
    "content1 = eval(content)\n",
    "content2 = {v : k for k, v in content1.items()}\n",
    "\n",
    "file.close()\n",
    "\n",
    "print(content1, content2, sep='\\n')"
   ]
  },
  {
   "cell_type": "code",
   "execution_count": 3,
   "id": "9390a044",
   "metadata": {},
   "outputs": [
    {
     "name": "stdout",
     "output_type": "stream",
     "text": [
      "['./datasets/animals/original\\\\cane', './datasets/animals/original\\\\cavallo', './datasets/animals/original\\\\elefante', './datasets/animals/original\\\\farfalla', './datasets/animals/original\\\\gallina', './datasets/animals/original\\\\gatto', './datasets/animals/original\\\\mucca', './datasets/animals/original\\\\pecora', './datasets/animals/original\\\\ragno', './datasets/animals/original\\\\scoiattolo']\n"
     ]
    }
   ],
   "source": [
    "import os\n",
    "from glob import glob\n",
    "\n",
    "root = './datasets/animals/original/'\n",
    "directories = glob(os.path.join(root, '*'))\n",
    "print(directories)\n",
    "\n",
    "for directory in directories:\n",
    "    try:\n",
    "        os.rename(directory, os.path.join(root, content1[directory[directory.rindex('\\\\') + 1:]]))\n",
    "    except KeyError as e:\n",
    "        os.rename(directory, os.path.join(root, content2[directory[directory.rindex('\\\\') + 1:]]))"
   ]
  },
  {
   "cell_type": "code",
   "execution_count": 4,
   "id": "d003b7db",
   "metadata": {},
   "outputs": [
    {
     "name": "stdout",
     "output_type": "stream",
     "text": [
      "['./datasets/animals/original\\\\butterfly', './datasets/animals/original\\\\cat', './datasets/animals/original\\\\chicken', './datasets/animals/original\\\\cow', './datasets/animals/original\\\\dog', './datasets/animals/original\\\\elephant', './datasets/animals/original\\\\horse', './datasets/animals/original\\\\sheep', './datasets/animals/original\\\\spider', './datasets/animals/original\\\\squirrel']\n"
     ]
    }
   ],
   "source": [
    "directories = glob(os.path.join(root, '*'))\n",
    "print(directories)"
   ]
  },
  {
   "cell_type": "code",
   "execution_count": 8,
   "id": "2721b65e",
   "metadata": {},
   "outputs": [
    {
     "data": {
      "text/plain": [
       "['butterfly',\n",
       " 'cat',\n",
       " 'chicken',\n",
       " 'cow',\n",
       " 'dog',\n",
       " 'elephant',\n",
       " 'horse',\n",
       " 'sheep',\n",
       " 'spider',\n",
       " 'squirrel']"
      ]
     },
     "execution_count": 8,
     "metadata": {},
     "output_type": "execute_result"
    }
   ],
   "source": [
    "# 디렉토리 이름을 모두 가져오기(list 타입으로 변환)\n",
    "directory_names = list(map(lambda directory: directory[directory.rindex(\"\\\\\") + 1:], directories))\n",
    "directory_names"
   ]
  },
  {
   "cell_type": "code",
   "execution_count": 12,
   "id": "6891df70",
   "metadata": {},
   "outputs": [],
   "source": [
    "# 전체 파일명을 디렉토리명과 일치하게 바꾸자!(예: dog1.png, dog2.png, ...)\n",
    "# os.rename(old, new)\n",
    "# 1. directory_names\n",
    "# 2. os.listdir()\n",
    "# os.listdir(os.path.join(root, 'dog'))\n",
    "\n",
    "root = './datasets/animals/original/'\n",
    "\n",
    "for name in directory_names:\n",
    "    for i, file_name in enumerate(os.listdir(os.path.join(root, name))):\n",
    "        old_file = os.path.join(root + name + '/', file_name)\n",
    "        new_file = os.path.join(root + name + '/', name + str(i + 1) + '.png')\n",
    "        \n",
    "        os.rename(old_file, new_file)"
   ]
  },
  {
   "cell_type": "code",
   "execution_count": 13,
   "id": "97a5f9cc",
   "metadata": {},
   "outputs": [
    {
     "name": "stdout",
     "output_type": "stream",
     "text": [
      "Found 26179 images belonging to 10 classes.\n",
      "{'butterfly': 0, 'cat': 1, 'chicken': 2, 'cow': 3, 'dog': 4, 'elephant': 5, 'horse': 6, 'sheep': 7, 'spider': 8, 'squirrel': 9}\n"
     ]
    }
   ],
   "source": [
    "from tensorflow.keras.preprocessing.image import ImageDataGenerator\n",
    "\n",
    "image_data_generator = ImageDataGenerator(rescale=1./255)\n",
    "\n",
    "generator = image_data_generator.flow_from_directory(\n",
    "    root,\n",
    "    target_size=(150, 150),\n",
    "    batch_size = 20,\n",
    "    class_mode = 'categorical'\n",
    ")\n",
    "\n",
    "print(generator.class_indices)"
   ]
  },
  {
   "cell_type": "code",
   "execution_count": 24,
   "id": "5c6f8d22",
   "metadata": {},
   "outputs": [
    {
     "data": {
      "text/plain": [
       "'./datasets/animals/original/butterfly/butterfly1.png'"
      ]
     },
     "execution_count": 24,
     "metadata": {},
     "output_type": "execute_result"
    }
   ],
   "source": [
    "import pandas as pd\n",
    "\n",
    "animal_df = pd.DataFrame({'file_paths': generator.filepaths, 'targets': generator.classes})\n",
    "animal_df.file_paths = animal_df.file_paths.apply(lambda x : x.replace('\\\\', '/'))\n",
    "animal_df.file_paths[0]"
   ]
  },
  {
   "cell_type": "code",
   "execution_count": 25,
   "id": "3002672f",
   "metadata": {},
   "outputs": [
    {
     "name": "stdout",
     "output_type": "stream",
     "text": [
      "targets\n",
      "4    3890\n",
      "8    3857\n",
      "2    2478\n",
      "6    2098\n",
      "0    1690\n",
      "3    1493\n",
      "9    1490\n",
      "7    1456\n",
      "1    1334\n",
      "5    1157\n",
      "Name: count, dtype: int64\n",
      "targets\n",
      "4    973\n",
      "8    964\n",
      "2    620\n",
      "6    525\n",
      "0    422\n",
      "3    373\n",
      "9    372\n",
      "7    364\n",
      "1    334\n",
      "5    289\n",
      "Name: count, dtype: int64\n"
     ]
    }
   ],
   "source": [
    "from sklearn.model_selection import train_test_split\n",
    "\n",
    "X_train, X_test, y_train, y_test = train_test_split(animal_df.file_paths, animal_df.targets, stratify=animal_df.targets, test_size=0.2, random_state=124)\n",
    "\n",
    "print(y_train.value_counts())\n",
    "print(y_test.value_counts())"
   ]
  },
  {
   "cell_type": "code",
   "execution_count": 27,
   "id": "5faec01d",
   "metadata": {},
   "outputs": [
    {
     "name": "stdout",
     "output_type": "stream",
     "text": [
      "targets\n",
      "4    3890\n",
      "8    3857\n",
      "2    2478\n",
      "6    2098\n",
      "0    1690\n",
      "3    1493\n",
      "9    1490\n",
      "7    1456\n",
      "1    1334\n",
      "5    1157\n",
      "Name: count, dtype: int64\n",
      "targets\n",
      "4    3112\n",
      "8    3086\n",
      "2    1982\n",
      "6    1678\n",
      "0    1352\n",
      "3    1194\n",
      "9    1192\n",
      "7    1165\n",
      "1    1067\n",
      "5     926\n",
      "Name: count, dtype: int64\n",
      "targets\n",
      "4    778\n",
      "8    771\n",
      "2    496\n",
      "6    420\n",
      "0    338\n",
      "3    299\n",
      "9    298\n",
      "7    291\n",
      "1    267\n",
      "5    231\n",
      "Name: count, dtype: int64\n"
     ]
    }
   ],
   "source": [
    "train_images, validation_images, train_targets, validation_targets = \\\n",
    "train_test_split(X_train, y_train, stratify=y_train, test_size=0.2, random_state=124)\n",
    "\n",
    "print(y_train.value_counts())\n",
    "print(train_targets.value_counts())\n",
    "print(validation_targets.value_counts())"
   ]
  },
  {
   "cell_type": "code",
   "execution_count": 28,
   "id": "ce5da3a2",
   "metadata": {},
   "outputs": [],
   "source": [
    "import shutil\n",
    "import os.path\n",
    "\n",
    "root = './datasets/animals/'\n",
    "\n",
    "for filepath in train_images:\n",
    "#     './datasets/animals/original/butterfly/butterfly1.png'\n",
    "    animal_dir = filepath[filepath.find('original/') + 9:filepath.rindex('/') + 1]\n",
    "    destination = os.path.join(root, 'train/' + animal_dir)\n",
    "    \n",
    "    if not os.path.exists(destination):\n",
    "        os.mkdir(destination)\n",
    "    \n",
    "    shutil.copy2(filepath, destination)"
   ]
  },
  {
   "cell_type": "code",
   "execution_count": 37,
   "id": "91bc7ba4",
   "metadata": {},
   "outputs": [],
   "source": [
    "# valid copy\n",
    "import shutil\n",
    "import os.path\n",
    "\n",
    "root = './datasets/animals/'\n",
    "\n",
    "for filepath in validation_images:\n",
    "#     './datasets/animals/original/butterfly/butterfly1.png'\n",
    "    animal_dir = filepath[filepath.find('original/') + 9:filepath.rindex('/') + 1]\n",
    "    destination = os.path.join(root, 'validation/' + animal_dir)\n",
    "    \n",
    "    if not os.path.exists(destination):\n",
    "        os.mkdir(destination)\n",
    "    \n",
    "    shutil.copy2(filepath, destination)"
   ]
  },
  {
   "cell_type": "code",
   "execution_count": 38,
   "id": "454a8f3a",
   "metadata": {},
   "outputs": [],
   "source": [
    "# test copy\n",
    "# valid copy\n",
    "import shutil\n",
    "import os.path\n",
    "\n",
    "root = './datasets/animals/'\n",
    "\n",
    "for filepath in X_test:\n",
    "#     './datasets/animals/original/butterfly/butterfly1.png'\n",
    "    animal_dir = filepath[filepath.find('original/') + 9:filepath.rindex('/') + 1]\n",
    "    destination = os.path.join(root, 'test/' + animal_dir)\n",
    "    \n",
    "    if not os.path.exists(destination):\n",
    "        os.mkdir(destination)\n",
    "    \n",
    "    shutil.copy2(filepath, destination)"
   ]
  }
 ],
 "metadata": {
  "kernelspec": {
   "display_name": "Python 3 (ipykernel)",
   "language": "python",
   "name": "python3"
  },
  "language_info": {
   "codemirror_mode": {
    "name": "ipython",
    "version": 3
   },
   "file_extension": ".py",
   "mimetype": "text/x-python",
   "name": "python",
   "nbconvert_exporter": "python",
   "pygments_lexer": "ipython3",
   "version": "3.11.5"
  }
 },
 "nbformat": 4,
 "nbformat_minor": 5
}
