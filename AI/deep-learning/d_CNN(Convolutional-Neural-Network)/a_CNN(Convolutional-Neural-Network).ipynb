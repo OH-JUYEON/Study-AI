{
 "cells": [
  {
   "cell_type": "markdown",
   "id": "70c15074",
   "metadata": {},
   "source": [
    "### CNN(Convolutional Neural Network), 합성곱 신경망\n",
    "- 실제 이미지 데이터는 분류 대상이 이미지에서 고정된 위치에 있지 않고 분류 대상이 이미지의 어디에 있을지 모르는 경우가 대부분이다.  \n",
    "- 실제 이미지 데이터를 분류하기 위해서는, 이미지의 각 feature들을 그대로 학습하는 것이 아닌, CNN으로 패턴을 인식한 뒤 학습해야 한다.\n",
    "\n",
    "<div style=\"display: flex; width:70%; margin-bottom: 30px;\">\n",
    "    <div>\n",
    "        <img src=\"./images/dogs01.png\" width=\"500\" style=\"margin-left: 20px\">\n",
    "    </div>\n",
    "    <div>\n",
    "        <img src=\"./images/dogs02.png\" width=\"720\" style=\"margin-left: 80px\">\n",
    "    </div>\n",
    "</div>\n",
    "\n",
    "- 이미지의 크기가 커질 수록 굉장히 많은 Weight가 필요하기 때문에 분류기에 바로 넣지 않고, 이를 사전에 추출 및 축소해야 한다.\n",
    "<div style=\"display: flex; width:70%; margin-top: 10px;\">\n",
    "    <div>\n",
    "        <img src=\"./images/tiger.png\" width=\"600\" style=\"margin-left: 0; margin-top: 50px\">\n",
    "    </div>\n",
    "    <div>\n",
    "        <img src=\"./images/tiger_dnn.png\" width=\"700\" style=\"margin-left: 50px\">\n",
    "    </div>\n",
    "</div>\n",
    "\n",
    "- CNN은 인간의 시신경 구조를 모방한 기술로서, 이미지의 패턴을 찾을 때 사용한다.\n",
    "- Feature Extraction을 통해 각 단계를 거치면서, 함축된 이미지 조각으로 분리되고 각 이미지 조각을 통해 이미지의 패턴을 인식할 수 있다.\n",
    "<img src=\"./images/cnn01.png\" width=\"700\" style=\"margin-left: 0; margin-bottom: 20px\">\n",
    "\n",
    "- CNN은 분류하기에 적합한 최적의 feature를 추출하고, 최적의 feature를 추출하기 위한 최적의 Weight와 Filter를 계산한다.\n",
    "<img src=\"./images/cnn02.png\" width=\"500\" style=\"margin-left: 50px\">\n",
    "---\n",
    "\n",
    "#### Filter\n",
    "- 일반적으로 정방 행렬로 구성되어 있으며, 원본 이미지에 슬라이딩 윈도우 알고리즘을 사용하여 순차적으로 새로운 픽셀값을 만들면서 적용한다.\n",
    "- 보통은 사용자가 목적에 맞는 특정 필터를 스스로 만들거나 기존에 설계된 다양한 필터를 선택하여 이미지에 적용하지만,  \n",
    "CNN은 최적의 필터 값을 학습을 통해 스스로 최적화 한다.\n",
    "<img src=\"./images/filter.png\" width=\"500\" style=\"margin-left: 0;\">\n",
    "<img src=\"./images/filter.gif\" width=\"400\" style=\"margin-left: -20px; margin-top: -30px; margin-bottom: -50px\">\n",
    "\n",
    "- 필터 하나 당, 이미지의 채널 수 만큼 Kernel이 존재하고, 각 채널에 할당된 필터의 커널을 적용하여 출력 이미지를 생성한다.\n",
    "- 출력 Feature Map의 개수는 필터의 개수와 동일하다.\n",
    "<img src=\"./images/filter_channel.gif\" width=\"500\" style=\"margin-left: -10px\">\n",
    "\n",
    "#### Kernel\n",
    "- filter 안에 1 ~ n개의 커널이 존재한다. 커널의 개수는 반드시 이미지의 채널 수와 동일해야 한다.\n",
    "- Kernel Size는 면적(가로x세로)을 의미하며 가로와 세로는 서로 다를 수 있지만 보통은 일치 시킨다.\n",
    "- Kernel 크기가 크면 클 수록 입력 이미지에서 더 많은 Feature 정보를 가져 올 수 있지만,  \n",
    "큰 사이즈의 Kernel로 Convolution 연산을 할 경우 훨씬 더 많은 연산량과 파라미터가 필요하다.\n",
    "<img src=\"./images/kernel.gif\" width=\"500\" style=\"margin-left: -20px\">\n",
    "\n",
    "#### Filter and Kernel\n",
    "<img src=\"./images/filter_kernel01.png\" width=\"500\" style=\"margin-left: 0px\">\n",
    "<img src=\"./images/filter_kernel02.png\" width=\"500\" style=\"margin-left: 0px\">  \n",
    "\n",
    "#### Stride\n",
    "- 입력 이미지에 Convolution Filter를 적용할 때 Sliding Window가 이동하는 간격을 의미한다.\n",
    "- 기본 stride는 1이지만, 2를 적용하면 입력 feature map 대비 출력 feature map의 크기가 대략 절반으로 줄어든다.\n",
    "- stride를 키우면 feature를 손실할 가능성이 높아지지만, 오히려 불필요한 특성을 제거하는 효과를 가져 올 수 있고 Convolution 연산 속도를 향상 시킨다.\n",
    "<div style=\"display: flex; width:70%; margin-top: 10px;\">\n",
    "    <div>\n",
    "        <img src=\"./images/stride01.gif\" width=\"600\" style=\"margin-left: 0; margin-top: 0\">\n",
    "    </div>\n",
    "    <div>\n",
    "        <img src=\"./images/stride02.gif\" width=\"600\" style=\"margin-left: 50px\">\n",
    "    </div>\n",
    "</div>\n",
    "\n",
    "#### Padding\n",
    "- Filter를 적용하여 Convolution 연산 수행 시 출력 Feature Map이 입력 Feature Map 대비 계속적으로 작아지는 것을 막기 위해 Padding을 적용한다.\n",
    "- Filter 적용 전, 입력 Feature Map의 상하좌우 끝에 각각 열과 행을 추가 한 뒤 , 0 값으로 채워, 입력 Feature map 사이즈를 증가 시킨다.\n",
    "- 출력 이미지의 크기를 그대로 유지하기 위해서 직접 계산할 필요 없이 \"same\"이라는 값을 통해 입력 이미지의 크기와 동일하게 맞출 수 있다.\n",
    "<img src=\"./images/padding.gif\" width=\"600\" style=\"margin-left: 0\">\n",
    "\n",
    "#### Pooling\n",
    "- Convolution 연산이 적용된 Feature map의 일정 영역 별로 하나의 값을 추출하여 Feature map의 사이즈를 줄인다(sub sampling). \n",
    "- 보통은 Convolution -> ReLU activation -> Pooling 순서로 적용한다.\n",
    "- 비슷한 feature들이 서로 다른 이미지에서 위치가 달라지면서 다르게 해석되는 현상을 중화 시킬 수 있고,  \n",
    "Feature Map의 크기가 줄어들기 때문에, 연산 성능이 향상된다.\n",
    "- Max Pooling과 Average Pooling이 있으며, Max Pooling은 중요도가 가장 높은 feature를 추출하고, Average Pooling은 전체를 버무려서 추출한다.\n",
    "<img src=\"./images/pooling.gif\" width=\"450\" style=\"margin-left: -30px; margin-top: 20px; margin-bottom: 30px\">\n",
    "\n",
    "#### 🚩 정리\n",
    "- Stride를 증가시키는 것과 Pooling을 적용하는 것은 출력 Feature Map의 크기를 줄이는데 사용한다.\n",
    "- Convolution 연산을 진행하면서 Feature Map의 크기를 줄이면, 위치 변화에 따른 feature의 영향도도 줄어서, 오버피팅 감소 등의 장점을 얻을 수 있다.\n",
    "- Pooling의 경우 특정 위치의 feature값이 손실 되는 이슈 등으로 인하여 최근 Advanced CNN에서는 많이 사용되고 있지 않는다.\n",
    "- 과거 LeNet, AlexNet, VGG의 경우는 CNN(Stride/Padding) -> Activation -> Pooling으로 이어지는 전형적인 구조를 갖추었으나  \n",
    "이후 발표되는 논문 등에서 Stride로 Feature Map 크기를 줄이는 것이 Pooling 보다 더 나은 성능을 보인다고 한다.\n",
    "- ResNet부터 이어지는 최근 CNN에서는 최대한 Pooling을 자제하고 Stride를 이용하여 Network을 구성하는 경향이 강해지고 있다.\n",
    "- CNN은 Feature Extractor와 Classifier로 구성되어 있다.\n",
    "<img src=\"./images/cnn03.png\" width=\"850\" style=\"margin-left: -20px; margin-bottom: 20px;\">\n",
    "- Classifier에서는 Fully Connected Layer의 지나친 연결로 인해 많은 파라미터(Weight)가 생성되므로 오히려 오버 피팅을 가져 올 수 있게 된다.  \n",
    "- Dropout을 사용해서 Layer간 연결을 줄일 수 있으며 오버 피팅을 방지할 수 있다.\n",
    "<img src=\"./images/dropout.png\" width=\"850\" style=\"margin: 20px; margin-left: -10px;\">"
   ]
  },
  {
   "cell_type": "code",
   "execution_count": 2,
   "id": "84c00ade",
   "metadata": {},
   "outputs": [],
   "source": [
    "import numpy as np\n",
    "import pandas as pd\n",
    "import os"
   ]
  },
  {
   "cell_type": "markdown",
   "id": "334de789",
   "metadata": {},
   "source": [
    "##### Conv2D"
   ]
  },
  {
   "cell_type": "code",
   "execution_count": 3,
   "id": "d8f84335",
   "metadata": {},
   "outputs": [
    {
     "name": "stdout",
     "output_type": "stream",
     "text": [
      "<class 'keras.src.engine.keras_tensor.KerasTensor'>\n",
      "KerasTensor(type_spec=TensorSpec(shape=(None, 28, 28, 4), dtype=tf.float32, name=None), name='conv2d/Relu:0', description=\"created by layer 'conv2d'\")\n"
     ]
    }
   ],
   "source": [
    "from tensorflow.keras.layers import Input, Conv2D, MaxPooling2D\n",
    "from tensorflow.keras.models import Model\n",
    "\n",
    "INPUT_SIZE = 28\n",
    "\n",
    "input_tensor = Input(shape=(INPUT_SIZE, INPUT_SIZE, 1))\n",
    "x = Conv2D(filters=4, kernel_size=(3, 3), strides=(1, 1), padding=\"same\", activation='relu')(input_tensor)\n",
    "print(type(x), x, sep='\\n')"
   ]
  },
  {
   "cell_type": "markdown",
   "id": "ba355536",
   "metadata": {},
   "source": [
    "##### Pooling"
   ]
  },
  {
   "cell_type": "code",
   "execution_count": 4,
   "id": "f472a03b",
   "metadata": {},
   "outputs": [
    {
     "name": "stdout",
     "output_type": "stream",
     "text": [
      "<class 'keras.src.engine.keras_tensor.KerasTensor'>\n",
      "KerasTensor(type_spec=TensorSpec(shape=(None, 9, 9, 12), dtype=tf.float32, name=None), name='max_pooling2d/MaxPool:0', description=\"created by layer 'max_pooling2d'\")\n"
     ]
    }
   ],
   "source": [
    "input_tensor = Input(shape=(INPUT_SIZE, INPUT_SIZE, 1))\n",
    "x = Conv2D(filters=12, kernel_size=3, strides=1, padding='same', activation='relu')(input_tensor)\n",
    "# MaxPooling에 전달한 수로 기존 px을 나누면 최종 px이 나온다.\n",
    "x = MaxPooling2D((3, 3))(x)\n",
    "print(type(x), x, sep='\\n')"
   ]
  },
  {
   "cell_type": "markdown",
   "id": "076e795d",
   "metadata": {},
   "source": [
    "##### CNN"
   ]
  },
  {
   "cell_type": "code",
   "execution_count": 6,
   "id": "ef5fcf01",
   "metadata": {},
   "outputs": [
    {
     "name": "stdout",
     "output_type": "stream",
     "text": [
      "Model: \"model\"\n",
      "_________________________________________________________________\n",
      " Layer (type)                Output Shape              Param #   \n",
      "=================================================================\n",
      " input_4 (InputLayer)        [(None, 28, 28, 1)]       0         \n",
      "                                                                 \n",
      " conv2d_2 (Conv2D)           (None, 28, 28, 10)        100       \n",
      "                                                                 \n",
      " conv2d_3 (Conv2D)           (None, 26, 26, 64)        5824      \n",
      "                                                                 \n",
      " max_pooling2d_1 (MaxPoolin  (None, 13, 13, 64)        0         \n",
      " g2D)                                                            \n",
      "                                                                 \n",
      "=================================================================\n",
      "Total params: 5924 (23.14 KB)\n",
      "Trainable params: 5924 (23.14 KB)\n",
      "Non-trainable params: 0 (0.00 Byte)\n",
      "_________________________________________________________________\n"
     ]
    }
   ],
   "source": [
    "from tensorflow.keras.layers import Input, Conv2D, MaxPooling2D\n",
    "from tensorflow.keras.models import Model\n",
    "\n",
    "INPUT_SIZE = 28\n",
    "\n",
    "input_tensor = Input(shape=(INPUT_SIZE, INPUT_SIZE, 1))\n",
    "\n",
    "# Input * kernel * filter = param\n",
    "x = Conv2D(filters=10, kernel_size=3, strides=1, padding='same', activation='relu')(input_tensor)\n",
    "x = Conv2D(filters=64, kernel_size=3, activation='relu')(x)\n",
    "output = MaxPooling2D(2)(x)\n",
    "\n",
    "model = Model(inputs=input_tensor, outputs=output)\n",
    "model.summary()"
   ]
  },
  {
   "cell_type": "code",
   "execution_count": 9,
   "id": "23d90803",
   "metadata": {},
   "outputs": [
    {
     "name": "stdout",
     "output_type": "stream",
     "text": [
      "Model: \"model_1\"\n",
      "_________________________________________________________________\n",
      " Layer (type)                Output Shape              Param #   \n",
      "=================================================================\n",
      " input_7 (InputLayer)        [(None, 28, 28, 1)]       0         \n",
      "                                                                 \n",
      " conv2d_6 (Conv2D)           (None, 28, 28, 32)        320       \n",
      "                                                                 \n",
      " conv2d_7 (Conv2D)           (None, 26, 26, 64)        18496     \n",
      "                                                                 \n",
      " max_pooling2d_2 (MaxPoolin  (None, 13, 13, 64)        0         \n",
      " g2D)                                                            \n",
      "                                                                 \n",
      " flatten (Flatten)           (None, 10816)             0         \n",
      "                                                                 \n",
      " dense (Dense)               (None, 100)               1081700   \n",
      "                                                                 \n",
      " dense_1 (Dense)             (None, 10)                1010      \n",
      "                                                                 \n",
      "=================================================================\n",
      "Total params: 1101526 (4.20 MB)\n",
      "Trainable params: 1101526 (4.20 MB)\n",
      "Non-trainable params: 0 (0.00 Byte)\n",
      "_________________________________________________________________\n"
     ]
    }
   ],
   "source": [
    "from tensorflow.keras.layers import Dense, Flatten\n",
    "\n",
    "input_tensor = Input(shape=(INPUT_SIZE, INPUT_SIZE, 1))\n",
    "x = Conv2D(filters=32, kernel_size=3, strides=1, padding='same', activation='relu')(input_tensor)\n",
    "x = Conv2D(filters=64, kernel_size=3, activation='relu')(x)\n",
    "x = MaxPooling2D(2)(x)\n",
    "\n",
    "x = Flatten()(x)\n",
    "x = Dense(100, activation='relu')(x)\n",
    "output = Dense(10, activation='softmax')(x)\n",
    "model = Model(inputs=input_tensor, outputs=output)\n",
    "model.summary()"
   ]
  },
  {
   "cell_type": "code",
   "execution_count": 12,
   "id": "b746a138",
   "metadata": {},
   "outputs": [],
   "source": [
    "import numpy as np\n",
    "from tensorflow.keras.utils import to_categorical\n",
    "from sklearn.model_selection import train_test_split\n",
    "\n",
    "def get_preprocessed_data(images, targets):\n",
    "    images = np.array(images / 255.0, dtype=np.float32)\n",
    "    targets = np.array(targets, dtype=np.float32)\n",
    "    \n",
    "    return images, targets\n",
    "\n",
    "def get_preprocessed_ohe(images, targets):\n",
    "    images, targets = get_preprocessed_data(images, targets)\n",
    "    oh_targets = to_categorical(targets)\n",
    "    \n",
    "    return images, oh_targets\n",
    "\n",
    "def get_train_valid_test(train_images, train_targets, test_images, test_targets, validation_size=0.2, random_state=124):\n",
    "    train_images, train_oh_targets = get_preprocessed_ohe(train_images, train_targets)\n",
    "    test_images, test_oh_targets = get_preprocessed_ohe(test_images, test_targets)\n",
    "    \n",
    "    train_train_images, validation_images, train_train_oh_targets, validation_targets = \\\n",
    "    train_test_split(train_images, train_oh_targets, stratify=train_oh_targets, test_size=validation_size, random_state=random_state)\n",
    "    \n",
    "    return (train_train_images, train_train_oh_targets), (validation_images, validation_targets), (test_images, test_oh_targets)"
   ]
  },
  {
   "cell_type": "code",
   "execution_count": 16,
   "id": "3d7fedb7",
   "metadata": {},
   "outputs": [
    {
     "name": "stdout",
     "output_type": "stream",
     "text": [
      "before reshape:  (60000, 28, 28) (10000, 28, 28)\n",
      "after reshape:  (60000, 28, 28, 1) (10000, 28, 28, 1)\n",
      "(48000, 28, 28, 1) (48000, 10)\n",
      "(12000, 28, 28, 1) (12000, 10)\n",
      "(10000, 28, 28, 1) (10000, 10)\n"
     ]
    }
   ],
   "source": [
    "from tensorflow.keras.datasets import fashion_mnist\n",
    "\n",
    "(train_images, train_targets), (test_images, test_targets) = fashion_mnist.load_data()\n",
    "\n",
    "print('before reshape: ', train_images.shape, test_images.shape)\n",
    "\n",
    "# 채널 수를 꼭 넣어주자!\n",
    "train_images = np.reshape(train_images, (60000, 28, 28, 1))\n",
    "test_images = np.reshape(test_images, (10000, 28, 28, 1))\n",
    "\n",
    "print('after reshape: ', train_images.shape, test_images.shape)\n",
    "\n",
    "(train_train_images, train_train_oh_targets), (validation_images, validation_oh_targets), (test_images, test_oh_targets) = \\\n",
    "get_train_valid_test(train_images, train_targets, test_images, test_targets)\n",
    "\n",
    "print(train_train_images.shape, train_train_oh_targets.shape)\n",
    "print(validation_images.shape, validation_oh_targets.shape)\n",
    "print(test_images.shape, test_oh_targets.shape)"
   ]
  },
  {
   "cell_type": "code",
   "execution_count": 18,
   "id": "02c0dbdd",
   "metadata": {},
   "outputs": [],
   "source": [
    "from tensorflow.keras.optimizers import Adam\n",
    "from tensorflow.keras.losses import CategoricalCrossentropy\n",
    "from tensorflow.keras.metrics import Accuracy\n",
    "\n",
    "model.compile(optimizer=Adam(), loss=CategoricalCrossentropy(), metrics=['acc'])"
   ]
  },
  {
   "cell_type": "code",
   "execution_count": 19,
   "id": "2cf6d7b0",
   "metadata": {},
   "outputs": [
    {
     "name": "stdout",
     "output_type": "stream",
     "text": [
      "Epoch 1/20\n",
      "188/188 [==============================] - 42s 221ms/step - loss: 0.5281 - acc: 0.8139 - val_loss: 0.3752 - val_acc: 0.8655\n",
      "Epoch 2/20\n",
      "188/188 [==============================] - 42s 224ms/step - loss: 0.3160 - acc: 0.8896 - val_loss: 0.2792 - val_acc: 0.9020\n",
      "Epoch 3/20\n",
      "188/188 [==============================] - 43s 228ms/step - loss: 0.2610 - acc: 0.9070 - val_loss: 0.2726 - val_acc: 0.9017\n",
      "Epoch 4/20\n",
      "188/188 [==============================] - 43s 229ms/step - loss: 0.2275 - acc: 0.9195 - val_loss: 0.2396 - val_acc: 0.9162\n",
      "Epoch 5/20\n",
      "188/188 [==============================] - 44s 235ms/step - loss: 0.1987 - acc: 0.9286 - val_loss: 0.2474 - val_acc: 0.9145\n",
      "Epoch 6/20\n",
      "188/188 [==============================] - 42s 226ms/step - loss: 0.1746 - acc: 0.9362 - val_loss: 0.2396 - val_acc: 0.9152\n",
      "Epoch 7/20\n",
      "188/188 [==============================] - 39s 209ms/step - loss: 0.1536 - acc: 0.9443 - val_loss: 0.2356 - val_acc: 0.9181\n",
      "Epoch 8/20\n",
      "188/188 [==============================] - 32s 170ms/step - loss: 0.1359 - acc: 0.9507 - val_loss: 0.2371 - val_acc: 0.9203\n",
      "Epoch 9/20\n",
      "188/188 [==============================] - 33s 177ms/step - loss: 0.1174 - acc: 0.9588 - val_loss: 0.2348 - val_acc: 0.9225\n",
      "Epoch 10/20\n",
      "188/188 [==============================] - 33s 177ms/step - loss: 0.0995 - acc: 0.9643 - val_loss: 0.2575 - val_acc: 0.9193\n",
      "Epoch 11/20\n",
      "188/188 [==============================] - 34s 181ms/step - loss: 0.0863 - acc: 0.9691 - val_loss: 0.2587 - val_acc: 0.9202\n",
      "Epoch 12/20\n",
      "188/188 [==============================] - 34s 182ms/step - loss: 0.0735 - acc: 0.9737 - val_loss: 0.2584 - val_acc: 0.9248\n",
      "Epoch 13/20\n",
      "188/188 [==============================] - 34s 181ms/step - loss: 0.0564 - acc: 0.9813 - val_loss: 0.2869 - val_acc: 0.9209\n",
      "Epoch 14/20\n",
      "188/188 [==============================] - 35s 188ms/step - loss: 0.0482 - acc: 0.9837 - val_loss: 0.2962 - val_acc: 0.9224\n",
      "Epoch 15/20\n",
      "188/188 [==============================] - 34s 180ms/step - loss: 0.0398 - acc: 0.9862 - val_loss: 0.3163 - val_acc: 0.9168\n",
      "Epoch 16/20\n",
      "188/188 [==============================] - 35s 187ms/step - loss: 0.0348 - acc: 0.9881 - val_loss: 0.3222 - val_acc: 0.9229\n",
      "Epoch 17/20\n",
      "188/188 [==============================] - 34s 179ms/step - loss: 0.0276 - acc: 0.9911 - val_loss: 0.3381 - val_acc: 0.9232\n",
      "Epoch 18/20\n",
      "188/188 [==============================] - 33s 173ms/step - loss: 0.0186 - acc: 0.9950 - val_loss: 0.3649 - val_acc: 0.9230\n",
      "Epoch 19/20\n",
      "188/188 [==============================] - 34s 178ms/step - loss: 0.0208 - acc: 0.9935 - val_loss: 0.4358 - val_acc: 0.9141\n",
      "Epoch 20/20\n",
      "188/188 [==============================] - 37s 195ms/step - loss: 0.0235 - acc: 0.9924 - val_loss: 0.3937 - val_acc: 0.9207\n"
     ]
    }
   ],
   "source": [
    "history = model.fit(x=train_train_images, y=train_train_oh_targets, batch_size=256, epochs=20, validation_data=(validation_images, validation_oh_targets))"
   ]
  },
  {
   "cell_type": "code",
   "execution_count": 20,
   "id": "bfd5038a",
   "metadata": {},
   "outputs": [
    {
     "name": "stdout",
     "output_type": "stream",
     "text": [
      "40/40 [==============================] - 1s 32ms/step - loss: 0.4089 - acc: 0.9203\n"
     ]
    },
    {
     "data": {
      "text/plain": [
       "[0.40890249609947205, 0.9203000068664551]"
      ]
     },
     "execution_count": 20,
     "metadata": {},
     "output_type": "execute_result"
    }
   ],
   "source": [
    "model.evaluate(test_images, test_oh_targets, batch_size=256, verbose=1)"
   ]
  },
  {
   "cell_type": "code",
   "execution_count": 21,
   "id": "24936683",
   "metadata": {},
   "outputs": [
    {
     "data": {
      "image/png": "[encoded data removed]",
      "text/plain": [
       "<Figure size 640x480 with 1 Axes>"
      ]
     },
     "metadata": {},
     "output_type": "display_data"
    }
   ],
   "source": [
    "import matplotlib.pyplot as plt\n",
    "\n",
    "def show_history(history):\n",
    "    plt.plot(history.history['acc'], label='train')\n",
    "    plt.plot(history.history['val_acc'], label='validation')\n",
    "    plt.legend()\n",
    "\n",
    "show_history(history)"
   ]
  },
  {
   "cell_type": "markdown",
   "id": "a4d03f44",
   "metadata": {},
   "source": [
    "##### Dropout"
   ]
  },
  {
   "cell_type": "code",
   "execution_count": 28,
   "id": "80f2f6a3",
   "metadata": {},
   "outputs": [
    {
     "name": "stdout",
     "output_type": "stream",
     "text": [
      "Model: \"model_6\"\n",
      "_________________________________________________________________\n",
      " Layer (type)                Output Shape              Param #   \n",
      "=================================================================\n",
      " input_12 (InputLayer)       [(None, 28, 28, 1)]       0         \n",
      "                                                                 \n",
      " conv2d_16 (Conv2D)          (None, 28, 28, 32)        320       \n",
      "                                                                 \n",
      " conv2d_17 (Conv2D)          (None, 26, 26, 64)        18496     \n",
      "                                                                 \n",
      " max_pooling2d_7 (MaxPoolin  (None, 13, 13, 64)        0         \n",
      " g2D)                                                            \n",
      "                                                                 \n",
      " flatten_5 (Flatten)         (None, 10816)             0         \n",
      "                                                                 \n",
      " dropout_4 (Dropout)         (None, 10816)             0         \n",
      "                                                                 \n",
      " dense_10 (Dense)            (None, 100)               1081700   \n",
      "                                                                 \n",
      " dense_11 (Dense)            (None, 10)                1010      \n",
      "                                                                 \n",
      "=================================================================\n",
      "Total params: 1101526 (4.20 MB)\n",
      "Trainable params: 1101526 (4.20 MB)\n",
      "Non-trainable params: 0 (0.00 Byte)\n",
      "_________________________________________________________________\n"
     ]
    }
   ],
   "source": [
    "from tensorflow.keras.layers import Dense, Flatten, Dropout\n",
    "from tensorflow.keras.optimizers import Adam\n",
    "from tensorflow.keras.losses import CategoricalCrossentropy\n",
    "from tensorflow.keras.metrics import Accuracy\n",
    "\n",
    "INPUT_SIZE = 28\n",
    "\n",
    "input_tensor = Input(shape=(INPUT_SIZE, INPUT_SIZE, 1))\n",
    "x = Conv2D(filters=32, kernel_size=3, strides=1, padding='same', activation='relu')(input_tensor)\n",
    "x = Conv2D(filters=64, kernel_size=3, activation='relu')(x)\n",
    "x = MaxPooling2D(2)(x)\n",
    "\n",
    "x = Flatten()(x)\n",
    "x = Dropout(rate=0.5)(x)\n",
    "x = Dense(100, activation='relu')(x)\n",
    "output = Dense(10, activation='softmax')(x)\n",
    "\n",
    "\n",
    "model = Model(inputs=input_tensor, outputs=output)\n",
    "model.summary()\n",
    "model.compile(optimizer=Adam(), loss=CategoricalCrossentropy(), metrics=['acc'])"
   ]
  },
  {
   "cell_type": "code",
   "execution_count": 29,
   "id": "2ff6867f",
   "metadata": {},
   "outputs": [
    {
     "name": "stdout",
     "output_type": "stream",
     "text": [
      "Epoch 1/20\n",
      "188/188 [==============================] - 50s 262ms/step - loss: 0.5116 - acc: 0.8184 - val_loss: 0.3320 - val_acc: 0.8820\n",
      "Epoch 2/20\n",
      "188/188 [==============================] - 52s 278ms/step - loss: 0.3279 - acc: 0.8826 - val_loss: 0.2762 - val_acc: 0.9023\n",
      "Epoch 3/20\n",
      "188/188 [==============================] - 46s 245ms/step - loss: 0.2875 - acc: 0.8964 - val_loss: 0.2712 - val_acc: 0.9003\n",
      "Epoch 4/20\n",
      "188/188 [==============================] - 46s 243ms/step - loss: 0.2526 - acc: 0.9091 - val_loss: 0.2461 - val_acc: 0.9107\n",
      "Epoch 5/20\n",
      "188/188 [==============================] - 45s 238ms/step - loss: 0.2270 - acc: 0.9172 - val_loss: 0.2247 - val_acc: 0.9203\n",
      "Epoch 6/20\n",
      "188/188 [==============================] - 47s 250ms/step - loss: 0.2061 - acc: 0.9239 - val_loss: 0.2160 - val_acc: 0.9231\n",
      "Epoch 7/20\n",
      "188/188 [==============================] - 45s 237ms/step - loss: 0.1884 - acc: 0.9306 - val_loss: 0.2218 - val_acc: 0.9200\n",
      "Epoch 8/20\n",
      "188/188 [==============================] - 44s 236ms/step - loss: 0.1769 - acc: 0.9349 - val_loss: 0.2152 - val_acc: 0.9251\n",
      "Epoch 9/20\n",
      "188/188 [==============================] - 45s 239ms/step - loss: 0.1600 - acc: 0.9410 - val_loss: 0.2060 - val_acc: 0.9271\n",
      "Epoch 10/20\n",
      "188/188 [==============================] - 48s 258ms/step - loss: 0.1497 - acc: 0.9442 - val_loss: 0.2070 - val_acc: 0.9265\n",
      "Epoch 11/20\n",
      "188/188 [==============================] - 44s 233ms/step - loss: 0.1369 - acc: 0.9494 - val_loss: 0.2061 - val_acc: 0.9285\n",
      "Epoch 12/20\n",
      "188/188 [==============================] - 46s 243ms/step - loss: 0.1281 - acc: 0.9522 - val_loss: 0.2050 - val_acc: 0.9302\n",
      "Epoch 13/20\n",
      "188/188 [==============================] - 44s 233ms/step - loss: 0.1158 - acc: 0.9574 - val_loss: 0.2057 - val_acc: 0.9312\n",
      "Epoch 14/20\n",
      "188/188 [==============================] - 46s 247ms/step - loss: 0.1078 - acc: 0.9596 - val_loss: 0.2073 - val_acc: 0.9302\n",
      "Epoch 15/20\n",
      "188/188 [==============================] - 46s 247ms/step - loss: 0.0990 - acc: 0.9634 - val_loss: 0.2195 - val_acc: 0.9284\n",
      "Epoch 16/20\n",
      "188/188 [==============================] - 47s 250ms/step - loss: 0.0921 - acc: 0.9654 - val_loss: 0.2191 - val_acc: 0.9314\n",
      "Epoch 17/20\n",
      "188/188 [==============================] - 47s 248ms/step - loss: 0.0846 - acc: 0.9685 - val_loss: 0.2176 - val_acc: 0.9308\n",
      "Epoch 18/20\n",
      "188/188 [==============================] - 46s 245ms/step - loss: 0.0794 - acc: 0.9700 - val_loss: 0.2182 - val_acc: 0.9313\n",
      "Epoch 19/20\n",
      "188/188 [==============================] - 46s 243ms/step - loss: 0.0727 - acc: 0.9730 - val_loss: 0.2282 - val_acc: 0.9298\n",
      "Epoch 20/20\n",
      "188/188 [==============================] - 48s 256ms/step - loss: 0.0665 - acc: 0.9752 - val_loss: 0.2397 - val_acc: 0.9308\n"
     ]
    }
   ],
   "source": [
    "history = model.fit(x=train_train_images, y=train_train_oh_targets, batch_size=256, epochs=20, validation_data=(validation_images, validation_oh_targets))"
   ]
  },
  {
   "cell_type": "code",
   "execution_count": 30,
   "id": "34f5b05a",
   "metadata": {},
   "outputs": [
    {
     "name": "stdout",
     "output_type": "stream",
     "text": [
      "40/40 [==============================] - 2s 42ms/step - loss: 0.2614 - acc: 0.9256\n"
     ]
    },
    {
     "data": {
      "text/plain": [
       "[0.2613968849182129, 0.925599992275238]"
      ]
     },
     "execution_count": 30,
     "metadata": {},
     "output_type": "execute_result"
    }
   ],
   "source": [
    "model.evaluate(test_images, test_oh_targets, batch_size=256, verbose=1)"
   ]
  },
  {
   "cell_type": "code",
   "execution_count": 31,
   "id": "53fac9d2",
   "metadata": {},
   "outputs": [
    {
     "data": {
      "image/png": "[encoded data removed]",
      "text/plain": [
       "<Figure size 640x480 with 1 Axes>"
      ]
     },
     "metadata": {},
     "output_type": "display_data"
    }
   ],
   "source": [
    "import matplotlib.pyplot as plt\n",
    "\n",
    "def show_history(history):\n",
    "    plt.plot(history.history['acc'], label='train')\n",
    "    plt.plot(history.history['val_acc'], label='validation')\n",
    "    plt.legend()\n",
    "\n",
    "show_history(history)"
   ]
  }
 ],
 "metadata": {
  "kernelspec": {
   "display_name": "Python 3 (ipykernel)",
   "language": "python",
   "name": "python3"
  },
  "language_info": {
   "codemirror_mode": {
    "name": "ipython",
    "version": 3
   },
   "file_extension": ".py",
   "mimetype": "text/x-python",
   "name": "python",
   "nbconvert_exporter": "python",
   "pygments_lexer": "ipython3",
   "version": "3.11.5"
  }
 },
 "nbformat": 4,
 "nbformat_minor": 5
}
